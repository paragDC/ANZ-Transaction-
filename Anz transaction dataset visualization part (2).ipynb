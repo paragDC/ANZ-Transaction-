{
 "cells": [
  {
   "cell_type": "code",
   "execution_count": 1,
   "metadata": {},
   "outputs": [],
   "source": [
    "import pandas as pd\n",
    "import numpy as np\n",
    "import matplotlib.pyplot as plt\n",
    "import seaborn as sns"
   ]
  },
  {
   "cell_type": "code",
   "execution_count": 2,
   "metadata": {},
   "outputs": [],
   "source": [
    "df = pd.read_excel(r\"C:\\Users\\parag\\Desktop\\ANZ synthesised transaction dataset.xlsx\")"
   ]
  },
  {
   "cell_type": "code",
   "execution_count": 3,
   "metadata": {},
   "outputs": [
    {
     "data": {
      "text/html": [
       "<div>\n",
       "<style scoped>\n",
       "    .dataframe tbody tr th:only-of-type {\n",
       "        vertical-align: middle;\n",
       "    }\n",
       "\n",
       "    .dataframe tbody tr th {\n",
       "        vertical-align: top;\n",
       "    }\n",
       "\n",
       "    .dataframe thead th {\n",
       "        text-align: right;\n",
       "    }\n",
       "</style>\n",
       "<table border=\"1\" class=\"dataframe\">\n",
       "  <thead>\n",
       "    <tr style=\"text-align: right;\">\n",
       "      <th></th>\n",
       "      <th>status</th>\n",
       "      <th>card_present_flag</th>\n",
       "      <th>bpay_biller_code</th>\n",
       "      <th>account</th>\n",
       "      <th>currency</th>\n",
       "      <th>long_lat</th>\n",
       "      <th>txn_description</th>\n",
       "      <th>merchant_id</th>\n",
       "      <th>merchant_code</th>\n",
       "      <th>first_name</th>\n",
       "      <th>...</th>\n",
       "      <th>age</th>\n",
       "      <th>merchant_suburb</th>\n",
       "      <th>merchant_state</th>\n",
       "      <th>extraction</th>\n",
       "      <th>amount</th>\n",
       "      <th>transaction_id</th>\n",
       "      <th>country</th>\n",
       "      <th>customer_id</th>\n",
       "      <th>merchant_long_lat</th>\n",
       "      <th>movement</th>\n",
       "    </tr>\n",
       "  </thead>\n",
       "  <tbody>\n",
       "    <tr>\n",
       "      <th>0</th>\n",
       "      <td>authorized</td>\n",
       "      <td>1.0</td>\n",
       "      <td>NaN</td>\n",
       "      <td>ACC-1598451071</td>\n",
       "      <td>AUD</td>\n",
       "      <td>153.41 -27.95</td>\n",
       "      <td>POS</td>\n",
       "      <td>81c48296-73be-44a7-befa-d053f48ce7cd</td>\n",
       "      <td>NaN</td>\n",
       "      <td>Diana</td>\n",
       "      <td>...</td>\n",
       "      <td>26</td>\n",
       "      <td>Ashmore</td>\n",
       "      <td>QLD</td>\n",
       "      <td>2018-08-01T01:01:15.000+0000</td>\n",
       "      <td>16.25</td>\n",
       "      <td>a623070bfead4541a6b0fff8a09e706c</td>\n",
       "      <td>Australia</td>\n",
       "      <td>CUS-2487424745</td>\n",
       "      <td>153.38 -27.99</td>\n",
       "      <td>debit</td>\n",
       "    </tr>\n",
       "    <tr>\n",
       "      <th>1</th>\n",
       "      <td>authorized</td>\n",
       "      <td>0.0</td>\n",
       "      <td>NaN</td>\n",
       "      <td>ACC-1598451071</td>\n",
       "      <td>AUD</td>\n",
       "      <td>153.41 -27.95</td>\n",
       "      <td>SALES-POS</td>\n",
       "      <td>830a451c-316e-4a6a-bf25-e37caedca49e</td>\n",
       "      <td>NaN</td>\n",
       "      <td>Diana</td>\n",
       "      <td>...</td>\n",
       "      <td>26</td>\n",
       "      <td>Sydney</td>\n",
       "      <td>NSW</td>\n",
       "      <td>2018-08-01T01:13:45.000+0000</td>\n",
       "      <td>14.19</td>\n",
       "      <td>13270a2a902145da9db4c951e04b51b9</td>\n",
       "      <td>Australia</td>\n",
       "      <td>CUS-2487424745</td>\n",
       "      <td>151.21 -33.87</td>\n",
       "      <td>debit</td>\n",
       "    </tr>\n",
       "    <tr>\n",
       "      <th>2</th>\n",
       "      <td>authorized</td>\n",
       "      <td>1.0</td>\n",
       "      <td>NaN</td>\n",
       "      <td>ACC-1222300524</td>\n",
       "      <td>AUD</td>\n",
       "      <td>151.23 -33.94</td>\n",
       "      <td>POS</td>\n",
       "      <td>835c231d-8cdf-4e96-859d-e9d571760cf0</td>\n",
       "      <td>NaN</td>\n",
       "      <td>Michael</td>\n",
       "      <td>...</td>\n",
       "      <td>38</td>\n",
       "      <td>Sydney</td>\n",
       "      <td>NSW</td>\n",
       "      <td>2018-08-01T01:26:15.000+0000</td>\n",
       "      <td>6.42</td>\n",
       "      <td>feb79e7ecd7048a5a36ec889d1a94270</td>\n",
       "      <td>Australia</td>\n",
       "      <td>CUS-2142601169</td>\n",
       "      <td>151.21 -33.87</td>\n",
       "      <td>debit</td>\n",
       "    </tr>\n",
       "    <tr>\n",
       "      <th>3</th>\n",
       "      <td>authorized</td>\n",
       "      <td>1.0</td>\n",
       "      <td>NaN</td>\n",
       "      <td>ACC-1037050564</td>\n",
       "      <td>AUD</td>\n",
       "      <td>153.10 -27.66</td>\n",
       "      <td>SALES-POS</td>\n",
       "      <td>48514682-c78a-4a88-b0da-2d6302e64673</td>\n",
       "      <td>NaN</td>\n",
       "      <td>Rhonda</td>\n",
       "      <td>...</td>\n",
       "      <td>40</td>\n",
       "      <td>Buderim</td>\n",
       "      <td>QLD</td>\n",
       "      <td>2018-08-01T01:38:45.000+0000</td>\n",
       "      <td>40.90</td>\n",
       "      <td>2698170da3704fd981b15e64a006079e</td>\n",
       "      <td>Australia</td>\n",
       "      <td>CUS-1614226872</td>\n",
       "      <td>153.05 -26.68</td>\n",
       "      <td>debit</td>\n",
       "    </tr>\n",
       "    <tr>\n",
       "      <th>4</th>\n",
       "      <td>authorized</td>\n",
       "      <td>1.0</td>\n",
       "      <td>NaN</td>\n",
       "      <td>ACC-1598451071</td>\n",
       "      <td>AUD</td>\n",
       "      <td>153.41 -27.95</td>\n",
       "      <td>SALES-POS</td>\n",
       "      <td>b4e02c10-0852-4273-b8fd-7b3395e32eb0</td>\n",
       "      <td>NaN</td>\n",
       "      <td>Diana</td>\n",
       "      <td>...</td>\n",
       "      <td>26</td>\n",
       "      <td>Mermaid Beach</td>\n",
       "      <td>QLD</td>\n",
       "      <td>2018-08-01T01:51:15.000+0000</td>\n",
       "      <td>3.25</td>\n",
       "      <td>329adf79878c4cf0aeb4188b4691c266</td>\n",
       "      <td>Australia</td>\n",
       "      <td>CUS-2487424745</td>\n",
       "      <td>153.44 -28.06</td>\n",
       "      <td>debit</td>\n",
       "    </tr>\n",
       "  </tbody>\n",
       "</table>\n",
       "<p>5 rows × 23 columns</p>\n",
       "</div>"
      ],
      "text/plain": [
       "       status  card_present_flag bpay_biller_code         account currency  \\\n",
       "0  authorized                1.0              NaN  ACC-1598451071      AUD   \n",
       "1  authorized                0.0              NaN  ACC-1598451071      AUD   \n",
       "2  authorized                1.0              NaN  ACC-1222300524      AUD   \n",
       "3  authorized                1.0              NaN  ACC-1037050564      AUD   \n",
       "4  authorized                1.0              NaN  ACC-1598451071      AUD   \n",
       "\n",
       "        long_lat txn_description                           merchant_id  \\\n",
       "0  153.41 -27.95             POS  81c48296-73be-44a7-befa-d053f48ce7cd   \n",
       "1  153.41 -27.95       SALES-POS  830a451c-316e-4a6a-bf25-e37caedca49e   \n",
       "2  151.23 -33.94             POS  835c231d-8cdf-4e96-859d-e9d571760cf0   \n",
       "3  153.10 -27.66       SALES-POS  48514682-c78a-4a88-b0da-2d6302e64673   \n",
       "4  153.41 -27.95       SALES-POS  b4e02c10-0852-4273-b8fd-7b3395e32eb0   \n",
       "\n",
       "   merchant_code first_name   ...     age merchant_suburb merchant_state  \\\n",
       "0            NaN      Diana   ...      26         Ashmore            QLD   \n",
       "1            NaN      Diana   ...      26          Sydney            NSW   \n",
       "2            NaN    Michael   ...      38          Sydney            NSW   \n",
       "3            NaN     Rhonda   ...      40         Buderim            QLD   \n",
       "4            NaN      Diana   ...      26   Mermaid Beach            QLD   \n",
       "\n",
       "                     extraction amount                    transaction_id  \\\n",
       "0  2018-08-01T01:01:15.000+0000  16.25  a623070bfead4541a6b0fff8a09e706c   \n",
       "1  2018-08-01T01:13:45.000+0000  14.19  13270a2a902145da9db4c951e04b51b9   \n",
       "2  2018-08-01T01:26:15.000+0000   6.42  feb79e7ecd7048a5a36ec889d1a94270   \n",
       "3  2018-08-01T01:38:45.000+0000  40.90  2698170da3704fd981b15e64a006079e   \n",
       "4  2018-08-01T01:51:15.000+0000   3.25  329adf79878c4cf0aeb4188b4691c266   \n",
       "\n",
       "     country     customer_id merchant_long_lat movement  \n",
       "0  Australia  CUS-2487424745     153.38 -27.99    debit  \n",
       "1  Australia  CUS-2487424745     151.21 -33.87    debit  \n",
       "2  Australia  CUS-2142601169     151.21 -33.87    debit  \n",
       "3  Australia  CUS-1614226872     153.05 -26.68    debit  \n",
       "4  Australia  CUS-2487424745     153.44 -28.06    debit  \n",
       "\n",
       "[5 rows x 23 columns]"
      ]
     },
     "execution_count": 3,
     "metadata": {},
     "output_type": "execute_result"
    }
   ],
   "source": [
    "df.head()"
   ]
  },
  {
   "cell_type": "code",
   "execution_count": 4,
   "metadata": {},
   "outputs": [
    {
     "data": {
      "text/html": [
       "<div>\n",
       "<style scoped>\n",
       "    .dataframe tbody tr th:only-of-type {\n",
       "        vertical-align: middle;\n",
       "    }\n",
       "\n",
       "    .dataframe tbody tr th {\n",
       "        vertical-align: top;\n",
       "    }\n",
       "\n",
       "    .dataframe thead th {\n",
       "        text-align: right;\n",
       "    }\n",
       "</style>\n",
       "<table border=\"1\" class=\"dataframe\">\n",
       "  <thead>\n",
       "    <tr style=\"text-align: right;\">\n",
       "      <th></th>\n",
       "      <th>status</th>\n",
       "      <th>card_present_flag</th>\n",
       "      <th>bpay_biller_code</th>\n",
       "      <th>account</th>\n",
       "      <th>currency</th>\n",
       "      <th>long_lat</th>\n",
       "      <th>txn_description</th>\n",
       "      <th>merchant_id</th>\n",
       "      <th>merchant_code</th>\n",
       "      <th>first_name</th>\n",
       "      <th>...</th>\n",
       "      <th>age</th>\n",
       "      <th>merchant_suburb</th>\n",
       "      <th>merchant_state</th>\n",
       "      <th>extraction</th>\n",
       "      <th>amount</th>\n",
       "      <th>transaction_id</th>\n",
       "      <th>country</th>\n",
       "      <th>customer_id</th>\n",
       "      <th>merchant_long_lat</th>\n",
       "      <th>movement</th>\n",
       "    </tr>\n",
       "  </thead>\n",
       "  <tbody>\n",
       "    <tr>\n",
       "      <th>12038</th>\n",
       "      <td>authorized</td>\n",
       "      <td>0.0</td>\n",
       "      <td>NaN</td>\n",
       "      <td>ACC-3021093232</td>\n",
       "      <td>AUD</td>\n",
       "      <td>149.83 -29.47</td>\n",
       "      <td>POS</td>\n",
       "      <td>32aa73dc-b7c2-4161-b14d-6271b96ce792</td>\n",
       "      <td>NaN</td>\n",
       "      <td>Melissa</td>\n",
       "      <td>...</td>\n",
       "      <td>30</td>\n",
       "      <td>Ringwood</td>\n",
       "      <td>VIC</td>\n",
       "      <td>2018-10-31T23:09:06.000+0000</td>\n",
       "      <td>9.79</td>\n",
       "      <td>f2e3e695c2ee4c50a4c8747f852cbe2e</td>\n",
       "      <td>Australia</td>\n",
       "      <td>CUS-55310383</td>\n",
       "      <td>145.23 -37.81</td>\n",
       "      <td>debit</td>\n",
       "    </tr>\n",
       "    <tr>\n",
       "      <th>12039</th>\n",
       "      <td>authorized</td>\n",
       "      <td>1.0</td>\n",
       "      <td>NaN</td>\n",
       "      <td>ACC-1608363396</td>\n",
       "      <td>AUD</td>\n",
       "      <td>151.22 -33.87</td>\n",
       "      <td>SALES-POS</td>\n",
       "      <td>296a0500-8552-48ac-ac81-ec37065b568e</td>\n",
       "      <td>NaN</td>\n",
       "      <td>Robert</td>\n",
       "      <td>...</td>\n",
       "      <td>20</td>\n",
       "      <td>Casula</td>\n",
       "      <td>NSW</td>\n",
       "      <td>2018-10-31T23:21:46.000+0000</td>\n",
       "      <td>63.87</td>\n",
       "      <td>56e147e5485f4683b9076fcaaed76640</td>\n",
       "      <td>Australia</td>\n",
       "      <td>CUS-2688605418</td>\n",
       "      <td>150.88 -33.96</td>\n",
       "      <td>debit</td>\n",
       "    </tr>\n",
       "    <tr>\n",
       "      <th>12040</th>\n",
       "      <td>authorized</td>\n",
       "      <td>1.0</td>\n",
       "      <td>NaN</td>\n",
       "      <td>ACC-3827517394</td>\n",
       "      <td>AUD</td>\n",
       "      <td>151.12 -33.89</td>\n",
       "      <td>POS</td>\n",
       "      <td>e5975ab4-08f7-4725-a369-24cc0e35ed6e</td>\n",
       "      <td>NaN</td>\n",
       "      <td>Craig</td>\n",
       "      <td>...</td>\n",
       "      <td>28</td>\n",
       "      <td>Kings Park</td>\n",
       "      <td>NSW</td>\n",
       "      <td>2018-10-31T23:34:25.000+0000</td>\n",
       "      <td>43.96</td>\n",
       "      <td>2fdd4681827343f6af2e6519644a684a</td>\n",
       "      <td>Australia</td>\n",
       "      <td>CUS-2663907001</td>\n",
       "      <td>150.92 -33.74</td>\n",
       "      <td>debit</td>\n",
       "    </tr>\n",
       "    <tr>\n",
       "      <th>12041</th>\n",
       "      <td>authorized</td>\n",
       "      <td>1.0</td>\n",
       "      <td>NaN</td>\n",
       "      <td>ACC-2920611728</td>\n",
       "      <td>AUD</td>\n",
       "      <td>144.96 -37.76</td>\n",
       "      <td>SALES-POS</td>\n",
       "      <td>af49051a-591d-4b08-bd3c-27730b70ed37</td>\n",
       "      <td>NaN</td>\n",
       "      <td>Tyler</td>\n",
       "      <td>...</td>\n",
       "      <td>69</td>\n",
       "      <td>Oakleigh</td>\n",
       "      <td>VIC</td>\n",
       "      <td>2018-10-31T23:47:05.000+0000</td>\n",
       "      <td>30.77</td>\n",
       "      <td>74aa9cd7e4af4c6d9cd7dbd28e9aedc9</td>\n",
       "      <td>Australia</td>\n",
       "      <td>CUS-1388323263</td>\n",
       "      <td>145.09 -37.91</td>\n",
       "      <td>debit</td>\n",
       "    </tr>\n",
       "    <tr>\n",
       "      <th>12042</th>\n",
       "      <td>authorized</td>\n",
       "      <td>1.0</td>\n",
       "      <td>NaN</td>\n",
       "      <td>ACC-1443681913</td>\n",
       "      <td>AUD</td>\n",
       "      <td>150.92 -33.77</td>\n",
       "      <td>SALES-POS</td>\n",
       "      <td>f31f4b14-2040-40ec-a120-b141bb274cbd</td>\n",
       "      <td>NaN</td>\n",
       "      <td>Ryan</td>\n",
       "      <td>...</td>\n",
       "      <td>31</td>\n",
       "      <td>Mascot</td>\n",
       "      <td>NSW</td>\n",
       "      <td>2018-10-31T23:59:44.000+0000</td>\n",
       "      <td>22.36</td>\n",
       "      <td>6d5218e04e8040b9996850ce11a19426</td>\n",
       "      <td>Australia</td>\n",
       "      <td>CUS-3129499595</td>\n",
       "      <td>151.19 -33.93</td>\n",
       "      <td>debit</td>\n",
       "    </tr>\n",
       "  </tbody>\n",
       "</table>\n",
       "<p>5 rows × 23 columns</p>\n",
       "</div>"
      ],
      "text/plain": [
       "           status  card_present_flag bpay_biller_code         account  \\\n",
       "12038  authorized                0.0              NaN  ACC-3021093232   \n",
       "12039  authorized                1.0              NaN  ACC-1608363396   \n",
       "12040  authorized                1.0              NaN  ACC-3827517394   \n",
       "12041  authorized                1.0              NaN  ACC-2920611728   \n",
       "12042  authorized                1.0              NaN  ACC-1443681913   \n",
       "\n",
       "      currency       long_lat txn_description  \\\n",
       "12038      AUD  149.83 -29.47             POS   \n",
       "12039      AUD  151.22 -33.87       SALES-POS   \n",
       "12040      AUD  151.12 -33.89             POS   \n",
       "12041      AUD  144.96 -37.76       SALES-POS   \n",
       "12042      AUD  150.92 -33.77       SALES-POS   \n",
       "\n",
       "                                merchant_id  merchant_code first_name  \\\n",
       "12038  32aa73dc-b7c2-4161-b14d-6271b96ce792            NaN    Melissa   \n",
       "12039  296a0500-8552-48ac-ac81-ec37065b568e            NaN     Robert   \n",
       "12040  e5975ab4-08f7-4725-a369-24cc0e35ed6e            NaN      Craig   \n",
       "12041  af49051a-591d-4b08-bd3c-27730b70ed37            NaN      Tyler   \n",
       "12042  f31f4b14-2040-40ec-a120-b141bb274cbd            NaN       Ryan   \n",
       "\n",
       "        ...     age merchant_suburb merchant_state  \\\n",
       "12038   ...      30        Ringwood            VIC   \n",
       "12039   ...      20          Casula            NSW   \n",
       "12040   ...      28      Kings Park            NSW   \n",
       "12041   ...      69        Oakleigh            VIC   \n",
       "12042   ...      31          Mascot            NSW   \n",
       "\n",
       "                         extraction amount                    transaction_id  \\\n",
       "12038  2018-10-31T23:09:06.000+0000   9.79  f2e3e695c2ee4c50a4c8747f852cbe2e   \n",
       "12039  2018-10-31T23:21:46.000+0000  63.87  56e147e5485f4683b9076fcaaed76640   \n",
       "12040  2018-10-31T23:34:25.000+0000  43.96  2fdd4681827343f6af2e6519644a684a   \n",
       "12041  2018-10-31T23:47:05.000+0000  30.77  74aa9cd7e4af4c6d9cd7dbd28e9aedc9   \n",
       "12042  2018-10-31T23:59:44.000+0000  22.36  6d5218e04e8040b9996850ce11a19426   \n",
       "\n",
       "         country     customer_id merchant_long_lat movement  \n",
       "12038  Australia    CUS-55310383     145.23 -37.81    debit  \n",
       "12039  Australia  CUS-2688605418     150.88 -33.96    debit  \n",
       "12040  Australia  CUS-2663907001     150.92 -33.74    debit  \n",
       "12041  Australia  CUS-1388323263     145.09 -37.91    debit  \n",
       "12042  Australia  CUS-3129499595     151.19 -33.93    debit  \n",
       "\n",
       "[5 rows x 23 columns]"
      ]
     },
     "execution_count": 4,
     "metadata": {},
     "output_type": "execute_result"
    }
   ],
   "source": [
    "df.tail()"
   ]
  },
  {
   "cell_type": "code",
   "execution_count": 5,
   "metadata": {},
   "outputs": [
    {
     "data": {
      "text/plain": [
       "status                   0\n",
       "card_present_flag     4326\n",
       "bpay_biller_code     11158\n",
       "account                  0\n",
       "currency                 0\n",
       "long_lat                 0\n",
       "txn_description          0\n",
       "merchant_id           4326\n",
       "merchant_code        11160\n",
       "first_name               0\n",
       "balance                  0\n",
       "date                     0\n",
       "gender                   0\n",
       "age                      0\n",
       "merchant_suburb       4326\n",
       "merchant_state        4326\n",
       "extraction               0\n",
       "amount                   0\n",
       "transaction_id           0\n",
       "country                  0\n",
       "customer_id              0\n",
       "merchant_long_lat     4326\n",
       "movement                 0\n",
       "dtype: int64"
      ]
     },
     "execution_count": 5,
     "metadata": {},
     "output_type": "execute_result"
    }
   ],
   "source": [
    "df.isnull().sum()"
   ]
  },
  {
   "cell_type": "markdown",
   "metadata": {},
   "source": [
    "we can see that there is a missing data present in our dataset so we have to clean our datset"
   ]
  },
  {
   "cell_type": "code",
   "execution_count": 6,
   "metadata": {},
   "outputs": [
    {
     "data": {
      "text/plain": [
       "(12043, 23)"
      ]
     },
     "execution_count": 6,
     "metadata": {},
     "output_type": "execute_result"
    }
   ],
   "source": [
    "df.shape"
   ]
  },
  {
   "cell_type": "code",
   "execution_count": 7,
   "metadata": {},
   "outputs": [
    {
     "data": {
      "text/plain": [
       "status                       object\n",
       "card_present_flag           float64\n",
       "bpay_biller_code             object\n",
       "account                      object\n",
       "currency                     object\n",
       "long_lat                     object\n",
       "txn_description              object\n",
       "merchant_id                  object\n",
       "merchant_code               float64\n",
       "first_name                   object\n",
       "balance                     float64\n",
       "date                 datetime64[ns]\n",
       "gender                       object\n",
       "age                           int64\n",
       "merchant_suburb              object\n",
       "merchant_state               object\n",
       "extraction                   object\n",
       "amount                      float64\n",
       "transaction_id               object\n",
       "country                      object\n",
       "customer_id                  object\n",
       "merchant_long_lat            object\n",
       "movement                     object\n",
       "dtype: object"
      ]
     },
     "execution_count": 7,
     "metadata": {},
     "output_type": "execute_result"
    }
   ],
   "source": [
    "df.dtypes"
   ]
  },
  {
   "cell_type": "markdown",
   "metadata": {},
   "source": [
    "so from above we can see that we have float, object and datetime datatypes, so we have to focus on object type dataset beacause we all know it can't fit on machine learning model directly"
   ]
  },
  {
   "cell_type": "code",
   "execution_count": 8,
   "metadata": {},
   "outputs": [
    {
     "data": {
      "text/html": [
       "<div>\n",
       "<style scoped>\n",
       "    .dataframe tbody tr th:only-of-type {\n",
       "        vertical-align: middle;\n",
       "    }\n",
       "\n",
       "    .dataframe tbody tr th {\n",
       "        vertical-align: top;\n",
       "    }\n",
       "\n",
       "    .dataframe thead th {\n",
       "        text-align: right;\n",
       "    }\n",
       "</style>\n",
       "<table border=\"1\" class=\"dataframe\">\n",
       "  <thead>\n",
       "    <tr style=\"text-align: right;\">\n",
       "      <th></th>\n",
       "      <th>card_present_flag</th>\n",
       "      <th>merchant_code</th>\n",
       "      <th>balance</th>\n",
       "      <th>age</th>\n",
       "      <th>amount</th>\n",
       "    </tr>\n",
       "  </thead>\n",
       "  <tbody>\n",
       "    <tr>\n",
       "      <th>count</th>\n",
       "      <td>7717.000000</td>\n",
       "      <td>883.0</td>\n",
       "      <td>12043.000000</td>\n",
       "      <td>12043.000000</td>\n",
       "      <td>12043.000000</td>\n",
       "    </tr>\n",
       "    <tr>\n",
       "      <th>mean</th>\n",
       "      <td>0.802644</td>\n",
       "      <td>0.0</td>\n",
       "      <td>14704.195553</td>\n",
       "      <td>30.582330</td>\n",
       "      <td>187.933588</td>\n",
       "    </tr>\n",
       "    <tr>\n",
       "      <th>std</th>\n",
       "      <td>0.398029</td>\n",
       "      <td>0.0</td>\n",
       "      <td>31503.722652</td>\n",
       "      <td>10.046343</td>\n",
       "      <td>592.599934</td>\n",
       "    </tr>\n",
       "    <tr>\n",
       "      <th>min</th>\n",
       "      <td>0.000000</td>\n",
       "      <td>0.0</td>\n",
       "      <td>0.240000</td>\n",
       "      <td>18.000000</td>\n",
       "      <td>0.100000</td>\n",
       "    </tr>\n",
       "    <tr>\n",
       "      <th>25%</th>\n",
       "      <td>1.000000</td>\n",
       "      <td>0.0</td>\n",
       "      <td>3158.585000</td>\n",
       "      <td>22.000000</td>\n",
       "      <td>16.000000</td>\n",
       "    </tr>\n",
       "    <tr>\n",
       "      <th>50%</th>\n",
       "      <td>1.000000</td>\n",
       "      <td>0.0</td>\n",
       "      <td>6432.010000</td>\n",
       "      <td>28.000000</td>\n",
       "      <td>29.000000</td>\n",
       "    </tr>\n",
       "    <tr>\n",
       "      <th>75%</th>\n",
       "      <td>1.000000</td>\n",
       "      <td>0.0</td>\n",
       "      <td>12465.945000</td>\n",
       "      <td>38.000000</td>\n",
       "      <td>53.655000</td>\n",
       "    </tr>\n",
       "    <tr>\n",
       "      <th>max</th>\n",
       "      <td>1.000000</td>\n",
       "      <td>0.0</td>\n",
       "      <td>267128.520000</td>\n",
       "      <td>78.000000</td>\n",
       "      <td>8835.980000</td>\n",
       "    </tr>\n",
       "  </tbody>\n",
       "</table>\n",
       "</div>"
      ],
      "text/plain": [
       "       card_present_flag  merchant_code        balance           age  \\\n",
       "count        7717.000000          883.0   12043.000000  12043.000000   \n",
       "mean            0.802644            0.0   14704.195553     30.582330   \n",
       "std             0.398029            0.0   31503.722652     10.046343   \n",
       "min             0.000000            0.0       0.240000     18.000000   \n",
       "25%             1.000000            0.0    3158.585000     22.000000   \n",
       "50%             1.000000            0.0    6432.010000     28.000000   \n",
       "75%             1.000000            0.0   12465.945000     38.000000   \n",
       "max             1.000000            0.0  267128.520000     78.000000   \n",
       "\n",
       "             amount  \n",
       "count  12043.000000  \n",
       "mean     187.933588  \n",
       "std      592.599934  \n",
       "min        0.100000  \n",
       "25%       16.000000  \n",
       "50%       29.000000  \n",
       "75%       53.655000  \n",
       "max     8835.980000  "
      ]
     },
     "execution_count": 8,
     "metadata": {},
     "output_type": "execute_result"
    }
   ],
   "source": [
    "df.describe()"
   ]
  },
  {
   "cell_type": "code",
   "execution_count": 9,
   "metadata": {},
   "outputs": [
    {
     "data": {
      "text/html": [
       "<div>\n",
       "<style scoped>\n",
       "    .dataframe tbody tr th:only-of-type {\n",
       "        vertical-align: middle;\n",
       "    }\n",
       "\n",
       "    .dataframe tbody tr th {\n",
       "        vertical-align: top;\n",
       "    }\n",
       "\n",
       "    .dataframe thead th {\n",
       "        text-align: right;\n",
       "    }\n",
       "</style>\n",
       "<table border=\"1\" class=\"dataframe\">\n",
       "  <thead>\n",
       "    <tr style=\"text-align: right;\">\n",
       "      <th></th>\n",
       "      <th>status</th>\n",
       "      <th>card_present_flag</th>\n",
       "      <th>balance</th>\n",
       "      <th>date</th>\n",
       "      <th>gender</th>\n",
       "      <th>age</th>\n",
       "      <th>merchant_suburb</th>\n",
       "      <th>merchant_state</th>\n",
       "      <th>amount</th>\n",
       "      <th>customer_id</th>\n",
       "      <th>movement</th>\n",
       "      <th>first_name</th>\n",
       "    </tr>\n",
       "  </thead>\n",
       "  <tbody>\n",
       "    <tr>\n",
       "      <th>0</th>\n",
       "      <td>authorized</td>\n",
       "      <td>1.0</td>\n",
       "      <td>35.39</td>\n",
       "      <td>2018-08-01</td>\n",
       "      <td>F</td>\n",
       "      <td>26</td>\n",
       "      <td>Ashmore</td>\n",
       "      <td>QLD</td>\n",
       "      <td>16.25</td>\n",
       "      <td>CUS-2487424745</td>\n",
       "      <td>debit</td>\n",
       "      <td>Diana</td>\n",
       "    </tr>\n",
       "    <tr>\n",
       "      <th>1</th>\n",
       "      <td>authorized</td>\n",
       "      <td>0.0</td>\n",
       "      <td>21.20</td>\n",
       "      <td>2018-08-01</td>\n",
       "      <td>F</td>\n",
       "      <td>26</td>\n",
       "      <td>Sydney</td>\n",
       "      <td>NSW</td>\n",
       "      <td>14.19</td>\n",
       "      <td>CUS-2487424745</td>\n",
       "      <td>debit</td>\n",
       "      <td>Diana</td>\n",
       "    </tr>\n",
       "    <tr>\n",
       "      <th>2</th>\n",
       "      <td>authorized</td>\n",
       "      <td>1.0</td>\n",
       "      <td>5.71</td>\n",
       "      <td>2018-08-01</td>\n",
       "      <td>M</td>\n",
       "      <td>38</td>\n",
       "      <td>Sydney</td>\n",
       "      <td>NSW</td>\n",
       "      <td>6.42</td>\n",
       "      <td>CUS-2142601169</td>\n",
       "      <td>debit</td>\n",
       "      <td>Michael</td>\n",
       "    </tr>\n",
       "    <tr>\n",
       "      <th>3</th>\n",
       "      <td>authorized</td>\n",
       "      <td>1.0</td>\n",
       "      <td>2117.22</td>\n",
       "      <td>2018-08-01</td>\n",
       "      <td>F</td>\n",
       "      <td>40</td>\n",
       "      <td>Buderim</td>\n",
       "      <td>QLD</td>\n",
       "      <td>40.90</td>\n",
       "      <td>CUS-1614226872</td>\n",
       "      <td>debit</td>\n",
       "      <td>Rhonda</td>\n",
       "    </tr>\n",
       "    <tr>\n",
       "      <th>4</th>\n",
       "      <td>authorized</td>\n",
       "      <td>1.0</td>\n",
       "      <td>17.95</td>\n",
       "      <td>2018-08-01</td>\n",
       "      <td>F</td>\n",
       "      <td>26</td>\n",
       "      <td>Mermaid Beach</td>\n",
       "      <td>QLD</td>\n",
       "      <td>3.25</td>\n",
       "      <td>CUS-2487424745</td>\n",
       "      <td>debit</td>\n",
       "      <td>Diana</td>\n",
       "    </tr>\n",
       "  </tbody>\n",
       "</table>\n",
       "</div>"
      ],
      "text/plain": [
       "       status  card_present_flag  balance       date gender  age  \\\n",
       "0  authorized                1.0    35.39 2018-08-01      F   26   \n",
       "1  authorized                0.0    21.20 2018-08-01      F   26   \n",
       "2  authorized                1.0     5.71 2018-08-01      M   38   \n",
       "3  authorized                1.0  2117.22 2018-08-01      F   40   \n",
       "4  authorized                1.0    17.95 2018-08-01      F   26   \n",
       "\n",
       "  merchant_suburb merchant_state  amount     customer_id movement first_name  \n",
       "0         Ashmore            QLD   16.25  CUS-2487424745    debit      Diana  \n",
       "1          Sydney            NSW   14.19  CUS-2487424745    debit      Diana  \n",
       "2          Sydney            NSW    6.42  CUS-2142601169    debit    Michael  \n",
       "3         Buderim            QLD   40.90  CUS-1614226872    debit     Rhonda  \n",
       "4   Mermaid Beach            QLD    3.25  CUS-2487424745    debit      Diana  "
      ]
     },
     "execution_count": 9,
     "metadata": {},
     "output_type": "execute_result"
    }
   ],
   "source": [
    "df = df[[\"status\",\"card_present_flag\",\"balance\",\"date\",\n",
    "                   \"gender\",\"age\",\"merchant_suburb\",\"merchant_state\",\n",
    "                   \"amount\",\"customer_id\",\"movement\",\"first_name\"]]\n",
    "df[\"date\"] = pd.to_datetime(df[\"date\"])\n",
    "df.head()"
   ]
  },
  {
   "cell_type": "code",
   "execution_count": 10,
   "metadata": {},
   "outputs": [],
   "source": [
    "gender = np.unique(df[\"gender\"])"
   ]
  },
  {
   "cell_type": "code",
   "execution_count": 11,
   "metadata": {},
   "outputs": [
    {
     "data": {
      "text/plain": [
       "array(['F', 'M'], dtype=object)"
      ]
     },
     "execution_count": 11,
     "metadata": {},
     "output_type": "execute_result"
    }
   ],
   "source": [
    "gender"
   ]
  },
  {
   "cell_type": "markdown",
   "metadata": {},
   "source": [
    "we don't have any other type present in the Gender column, so we can convert F = 0 and M = 1"
   ]
  },
  {
   "cell_type": "code",
   "execution_count": 12,
   "metadata": {},
   "outputs": [],
   "source": [
    "def new_gender(gender):\n",
    "    if gender == 'M':\n",
    "        return 1\n",
    "    else:\n",
    "        return 0"
   ]
  },
  {
   "cell_type": "code",
   "execution_count": 13,
   "metadata": {},
   "outputs": [],
   "source": [
    "df[\"Gender\"]= df['gender'].apply(new_gender)"
   ]
  },
  {
   "cell_type": "code",
   "execution_count": 14,
   "metadata": {},
   "outputs": [
    {
     "data": {
      "text/plain": [
       "0    0\n",
       "1    0\n",
       "2    1\n",
       "3    0\n",
       "4    0\n",
       "Name: Gender, dtype: int64"
      ]
     },
     "execution_count": 14,
     "metadata": {},
     "output_type": "execute_result"
    }
   ],
   "source": [
    "df[\"Gender\"].head()"
   ]
  },
  {
   "cell_type": "code",
   "execution_count": 16,
   "metadata": {},
   "outputs": [],
   "source": [
    "first_name = np.unique(df['first_name'])"
   ]
  },
  {
   "cell_type": "code",
   "execution_count": 17,
   "metadata": {},
   "outputs": [
    {
     "data": {
      "text/plain": [
       "array(['Abigail', 'Alexander', 'Amy', 'Andrew', 'Antonio', 'Ashley',\n",
       "       'Barry', 'Billy', 'Brian', 'Catherine', 'Charles', 'Christine',\n",
       "       'Christopher', 'Cindy', 'Craig', 'Daniel', 'Darren', 'David',\n",
       "       'Debra', 'Derek', 'Diana', 'Donald', 'Dustin', 'Edward',\n",
       "       'Elizabeth', 'Emily', 'Eric', 'Fernando', 'Gregory', 'Heather',\n",
       "       'Isaiah', 'Jacqueline', 'James', 'Jeffrey', 'Jessica', 'Jonathan',\n",
       "       'Joseph', 'Kaitlyn', 'Karen', 'Kenneth', 'Kimberly', 'Kristin',\n",
       "       'Linda', 'Lori', 'Lucas', 'Luis', 'Mackenzie', 'Maria', 'Marissa',\n",
       "       'Mary', 'Matthew', 'Melissa', 'Michael', 'Michele', 'Michelle',\n",
       "       'Natasha', 'Nathaniel', 'Patrick', 'Paul', 'Rachael', 'Renee',\n",
       "       'Rhonda', 'Richard', 'Ricky', 'Robert', 'Robin', 'Ronald', 'Ruth',\n",
       "       'Ryan', 'Sandra', 'Sarah', 'Scott', 'Stephanie', 'Susan',\n",
       "       'Tiffany', 'Tim', 'Timothy', 'Tonya', 'Tyler', 'Virginia'],\n",
       "      dtype=object)"
      ]
     },
     "execution_count": 17,
     "metadata": {},
     "output_type": "execute_result"
    }
   ],
   "source": [
    "first_name"
   ]
  },
  {
   "cell_type": "code",
   "execution_count": 18,
   "metadata": {},
   "outputs": [],
   "source": [
    "status = np.unique(df['status'])"
   ]
  },
  {
   "cell_type": "code",
   "execution_count": 19,
   "metadata": {},
   "outputs": [
    {
     "data": {
      "text/plain": [
       "array(['authorized', 'posted'], dtype=object)"
      ]
     },
     "execution_count": 19,
     "metadata": {},
     "output_type": "execute_result"
    }
   ],
   "source": [
    "status"
   ]
  },
  {
   "cell_type": "code",
   "execution_count": 20,
   "metadata": {},
   "outputs": [],
   "source": [
    "movement = np.unique(df['movement'])"
   ]
  },
  {
   "cell_type": "code",
   "execution_count": 21,
   "metadata": {},
   "outputs": [
    {
     "data": {
      "text/plain": [
       "array(['credit', 'debit'], dtype=object)"
      ]
     },
     "execution_count": 21,
     "metadata": {},
     "output_type": "execute_result"
    }
   ],
   "source": [
    "movement"
   ]
  },
  {
   "cell_type": "markdown",
   "metadata": {},
   "source": [
    "# Exploratory Data Analysis"
   ]
  },
  {
   "cell_type": "markdown",
   "metadata": {},
   "source": [
    "Total number of transaction made on each day"
   ]
  },
  {
   "cell_type": "code",
   "execution_count": 22,
   "metadata": {},
   "outputs": [
    {
     "data": {
      "text/plain": [
       "2018-09-28    174\n",
       "2018-08-17    172\n",
       "2018-10-05    168\n",
       "2018-10-17    162\n",
       "2018-09-14    161\n",
       "2018-09-21    160\n",
       "2018-10-03    160\n",
       "2018-10-04    159\n",
       "2018-09-27    159\n",
       "2018-10-19    158\n",
       "2018-08-03    157\n",
       "2018-10-26    157\n",
       "2018-08-24    156\n",
       "2018-09-13    154\n",
       "2018-10-12    154\n",
       "2018-08-31    153\n",
       "2018-08-23    152\n",
       "2018-08-02    152\n",
       "2018-09-07    152\n",
       "2018-09-06    152\n",
       "2018-08-10    151\n",
       "2018-10-18    150\n",
       "2018-08-22    150\n",
       "2018-09-26    149\n",
       "2018-09-05    149\n",
       "2018-09-12    149\n",
       "2018-08-09    149\n",
       "2018-10-24    148\n",
       "2018-09-19    148\n",
       "2018-10-10    146\n",
       "             ... \n",
       "2018-08-19    118\n",
       "2018-08-21    118\n",
       "2018-09-11    118\n",
       "2018-09-16    118\n",
       "2018-09-25    117\n",
       "2018-08-14    117\n",
       "2018-08-26    116\n",
       "2018-09-23    114\n",
       "2018-08-07    114\n",
       "2018-10-09    113\n",
       "2018-10-15    112\n",
       "2018-09-17    112\n",
       "2018-10-22    112\n",
       "2018-08-27    111\n",
       "2018-09-03    109\n",
       "2018-08-12    109\n",
       "2018-09-30    107\n",
       "2018-10-07    105\n",
       "2018-08-13    104\n",
       "2018-10-01    103\n",
       "2018-09-10    103\n",
       "2018-10-29    102\n",
       "2018-10-16    102\n",
       "2018-09-24    101\n",
       "2018-08-05    100\n",
       "2018-08-06     99\n",
       "2018-08-20     97\n",
       "2018-10-23     96\n",
       "2018-10-08     95\n",
       "2018-10-30     89\n",
       "Name: date, Length: 91, dtype: int64"
      ]
     },
     "execution_count": 22,
     "metadata": {},
     "output_type": "execute_result"
    }
   ],
   "source": [
    "df[\"date\"].value_counts()"
   ]
  },
  {
   "cell_type": "markdown",
   "metadata": {},
   "source": [
    "# Total number of transaction made by each customer"
   ]
  },
  {
   "cell_type": "code",
   "execution_count": 23,
   "metadata": {},
   "outputs": [
    {
     "data": {
      "text/plain": [
       "CUS-2487424745    578\n",
       "CUS-2142601169    303\n",
       "CUS-3026014945    292\n",
       "CUS-3378712515    260\n",
       "CUS-1614226872    259\n",
       "CUS-1196156254    245\n",
       "CUS-2695611575    239\n",
       "CUS-51506836      239\n",
       "CUS-860700529     233\n",
       "CUS-1669695324    230\n",
       "CUS-127297539     199\n",
       "CUS-883482547     178\n",
       "CUS-4142663097    174\n",
       "CUS-443776336     170\n",
       "CUS-4023861240    169\n",
       "CUS-164374203     166\n",
       "CUS-2663907001    165\n",
       "CUS-3142625864    163\n",
       "CUS-325142416     163\n",
       "CUS-1433879684    155\n",
       "CUS-537508723     152\n",
       "CUS-527400765     151\n",
       "CUS-2178051368    148\n",
       "CUS-3336454548    145\n",
       "CUS-1790886359    144\n",
       "CUS-3325710106    141\n",
       "CUS-2376382098    139\n",
       "CUS-3117610635    139\n",
       "CUS-3129499595    137\n",
       "CUS-4123612273    134\n",
       "                 ... \n",
       "CUS-2738291516     80\n",
       "CUS-1140341822     80\n",
       "CUS-880898248      78\n",
       "CUS-1816693151     78\n",
       "CUS-423725039      78\n",
       "CUS-134833760      77\n",
       "CUS-134193016      76\n",
       "CUS-1220154422     75\n",
       "CUS-1005756958     73\n",
       "CUS-2484453271     72\n",
       "CUS-2370108457     67\n",
       "CUS-2819545904     63\n",
       "CUS-331942311      62\n",
       "CUS-3989008654     62\n",
       "CUS-2630892467     60\n",
       "CUS-72755508       58\n",
       "CUS-2110742437     58\n",
       "CUS-55310383       57\n",
       "CUS-3431016847     55\n",
       "CUS-3255104878     52\n",
       "CUS-3174332735     51\n",
       "CUS-3151318058     49\n",
       "CUS-326006476      47\n",
       "CUS-1233833708     44\n",
       "CUS-2977593493     44\n",
       "CUS-3395687666     40\n",
       "CUS-3201519139     37\n",
       "CUS-1646183815     34\n",
       "CUS-495599312      31\n",
       "CUS-1739931018     25\n",
       "Name: customer_id, Length: 100, dtype: int64"
      ]
     },
     "execution_count": 23,
     "metadata": {},
     "output_type": "execute_result"
    }
   ],
   "source": [
    "df[\"customer_id\"].value_counts()"
   ]
  },
  {
   "cell_type": "code",
   "execution_count": 24,
   "metadata": {},
   "outputs": [
    {
     "data": {
      "text/plain": [
       "Michael        746\n",
       "Diana          578\n",
       "Jessica        408\n",
       "Joseph         391\n",
       "Jeffrey        388\n",
       "Richard        364\n",
       "Kimberly       343\n",
       "Tonya          292\n",
       "Susan          282\n",
       "Christopher    263\n",
       "Rhonda         259\n",
       "Ryan           239\n",
       "Tiffany        230\n",
       "Tyler          218\n",
       "Kenneth        214\n",
       "Robert         207\n",
       "Virginia       199\n",
       "Linda          179\n",
       "Michelle       178\n",
       "Sandra         174\n",
       "Edward         170\n",
       "James          169\n",
       "Craig          165\n",
       "Ricky          163\n",
       "Natasha        151\n",
       "Ronald         148\n",
       "Charles        145\n",
       "Matthew        144\n",
       "Derek          141\n",
       "Christine      139\n",
       "              ... \n",
       "Fernando        97\n",
       "Eric            96\n",
       "Jacqueline      92\n",
       "Alexander       91\n",
       "Mary            88\n",
       "Sarah           86\n",
       "Marissa         84\n",
       "Maria           81\n",
       "Gregory         80\n",
       "Dustin          80\n",
       "Tim             78\n",
       "Billy           77\n",
       "Rachael         76\n",
       "Ashley          75\n",
       "Stephanie       73\n",
       "Timothy         72\n",
       "Patrick         67\n",
       "Brian           63\n",
       "Catherine       62\n",
       "Paul            62\n",
       "Karen           60\n",
       "Darren          58\n",
       "Melissa         57\n",
       "Donald          55\n",
       "Emily           52\n",
       "Cindy           51\n",
       "Elizabeth       44\n",
       "David           40\n",
       "Andrew          34\n",
       "Jonathan        31\n",
       "Name: first_name, Length: 80, dtype: int64"
      ]
     },
     "execution_count": 24,
     "metadata": {},
     "output_type": "execute_result"
    }
   ],
   "source": [
    "df['first_name'].value_counts()"
   ]
  },
  {
   "cell_type": "markdown",
   "metadata": {},
   "source": [
    "here i used 'first_name' because there is a missing value present in 'customer_id' column"
   ]
  },
  {
   "cell_type": "markdown",
   "metadata": {},
   "source": [
    "# Total no. of transaction made by suburb"
   ]
  },
  {
   "cell_type": "code",
   "execution_count": 25,
   "metadata": {},
   "outputs": [
    {
     "data": {
      "text/plain": [
       "Melbourne             255\n",
       "Sydney                233\n",
       "Southport              82\n",
       "Brisbane City          79\n",
       "Chatswood              55\n",
       "Perth                  45\n",
       "Adelaide               44\n",
       "Mount Gambier          41\n",
       "Broadbeach             41\n",
       "Parramatta             39\n",
       "North Sydney           37\n",
       "Broken Hill            36\n",
       "Richmond               35\n",
       "Ringwood               35\n",
       "Darwin City            35\n",
       "Ceduna                 33\n",
       "Nowra                  33\n",
       "Robina                 33\n",
       "Castlemaine            33\n",
       "Liverpool              32\n",
       "Brookvale              32\n",
       "Doncaster              31\n",
       "Preston                30\n",
       "Docklands              30\n",
       "Mansfield              30\n",
       "Albany                 29\n",
       "Lilydale               28\n",
       "Busselton              28\n",
       "Alexandria             28\n",
       "Helensvale             28\n",
       "                     ... \n",
       "Barton                  1\n",
       "Vic                     1\n",
       "West Gladstone          1\n",
       "Athol Park              1\n",
       "Blackburn South         1\n",
       "Bellbowrie              1\n",
       "Coopers Plains          1\n",
       "Spencer Park            1\n",
       "Banksia Grove           1\n",
       "Hammond Park            1\n",
       "Olinda                  1\n",
       "Liverpool Bc            1\n",
       "Bellingen               1\n",
       "Moorooka                1\n",
       "Woolooware              1\n",
       "Muswellbrook South      1\n",
       "Forrestdale             1\n",
       "Melville                1\n",
       "South Windsor           1\n",
       "Mooroopna               1\n",
       "Langford                1\n",
       "Calamvale               1\n",
       "Park Avenue             1\n",
       "Larrakeyah              1\n",
       "Dover                   1\n",
       "Maclean                 1\n",
       "Colebee                 1\n",
       "Bowen                   1\n",
       "Thorneside              1\n",
       "Fulham Gardens          1\n",
       "Name: merchant_suburb, Length: 1609, dtype: int64"
      ]
     },
     "execution_count": 25,
     "metadata": {},
     "output_type": "execute_result"
    }
   ],
   "source": [
    "df['merchant_suburb'].value_counts()"
   ]
  },
  {
   "cell_type": "markdown",
   "metadata": {},
   "source": [
    "# Graphical Representation"
   ]
  },
  {
   "cell_type": "code",
   "execution_count": 28,
   "metadata": {},
   "outputs": [
    {
     "data": {
      "text/plain": [
       "<matplotlib.axes._subplots.AxesSubplot at 0x2731c942908>"
      ]
     },
     "execution_count": 28,
     "metadata": {},
     "output_type": "execute_result"
    },
    {
     "data": {
      "image/png": "[encoded data removed]",
      "text/plain": [
       "<Figure size 432x288 with 1 Axes>"
      ]
     },
     "metadata": {
      "needs_background": "light"
     },
     "output_type": "display_data"
    }
   ],
   "source": [
    "sns.countplot(df['Gender'])"
   ]
  },
  {
   "cell_type": "markdown",
   "metadata": {},
   "source": [
    "so we can see that male(1) is more than female(0) "
   ]
  },
  {
   "cell_type": "markdown",
   "metadata": {},
   "source": [
    "# Transaction volume each day "
   ]
  },
  {
   "cell_type": "code",
   "execution_count": 29,
   "metadata": {},
   "outputs": [],
   "source": [
    "df_date = df.groupby(\"date\").count()"
   ]
  },
  {
   "cell_type": "code",
   "execution_count": 31,
   "metadata": {},
   "outputs": [
    {
     "data": {
      "text/html": [
       "<div>\n",
       "<style scoped>\n",
       "    .dataframe tbody tr th:only-of-type {\n",
       "        vertical-align: middle;\n",
       "    }\n",
       "\n",
       "    .dataframe tbody tr th {\n",
       "        vertical-align: top;\n",
       "    }\n",
       "\n",
       "    .dataframe thead th {\n",
       "        text-align: right;\n",
       "    }\n",
       "</style>\n",
       "<table border=\"1\" class=\"dataframe\">\n",
       "  <thead>\n",
       "    <tr style=\"text-align: right;\">\n",
       "      <th></th>\n",
       "      <th>status</th>\n",
       "      <th>card_present_flag</th>\n",
       "      <th>balance</th>\n",
       "      <th>gender</th>\n",
       "      <th>age</th>\n",
       "      <th>merchant_suburb</th>\n",
       "      <th>merchant_state</th>\n",
       "      <th>amount</th>\n",
       "      <th>customer_id</th>\n",
       "      <th>movement</th>\n",
       "      <th>first_name</th>\n",
       "      <th>Gender</th>\n",
       "    </tr>\n",
       "    <tr>\n",
       "      <th>date</th>\n",
       "      <th></th>\n",
       "      <th></th>\n",
       "      <th></th>\n",
       "      <th></th>\n",
       "      <th></th>\n",
       "      <th></th>\n",
       "      <th></th>\n",
       "      <th></th>\n",
       "      <th></th>\n",
       "      <th></th>\n",
       "      <th></th>\n",
       "      <th></th>\n",
       "    </tr>\n",
       "  </thead>\n",
       "  <tbody>\n",
       "    <tr>\n",
       "      <th>2018-08-01</th>\n",
       "      <td>137</td>\n",
       "      <td>84</td>\n",
       "      <td>137</td>\n",
       "      <td>137</td>\n",
       "      <td>137</td>\n",
       "      <td>84</td>\n",
       "      <td>84</td>\n",
       "      <td>137</td>\n",
       "      <td>137</td>\n",
       "      <td>137</td>\n",
       "      <td>137</td>\n",
       "      <td>137</td>\n",
       "    </tr>\n",
       "    <tr>\n",
       "      <th>2018-08-02</th>\n",
       "      <td>152</td>\n",
       "      <td>99</td>\n",
       "      <td>152</td>\n",
       "      <td>152</td>\n",
       "      <td>152</td>\n",
       "      <td>99</td>\n",
       "      <td>99</td>\n",
       "      <td>152</td>\n",
       "      <td>152</td>\n",
       "      <td>152</td>\n",
       "      <td>152</td>\n",
       "      <td>152</td>\n",
       "    </tr>\n",
       "    <tr>\n",
       "      <th>2018-08-03</th>\n",
       "      <td>157</td>\n",
       "      <td>99</td>\n",
       "      <td>157</td>\n",
       "      <td>157</td>\n",
       "      <td>157</td>\n",
       "      <td>99</td>\n",
       "      <td>99</td>\n",
       "      <td>157</td>\n",
       "      <td>157</td>\n",
       "      <td>157</td>\n",
       "      <td>157</td>\n",
       "      <td>157</td>\n",
       "    </tr>\n",
       "    <tr>\n",
       "      <th>2018-08-04</th>\n",
       "      <td>118</td>\n",
       "      <td>94</td>\n",
       "      <td>118</td>\n",
       "      <td>118</td>\n",
       "      <td>118</td>\n",
       "      <td>94</td>\n",
       "      <td>94</td>\n",
       "      <td>118</td>\n",
       "      <td>118</td>\n",
       "      <td>118</td>\n",
       "      <td>118</td>\n",
       "      <td>118</td>\n",
       "    </tr>\n",
       "    <tr>\n",
       "      <th>2018-08-05</th>\n",
       "      <td>100</td>\n",
       "      <td>73</td>\n",
       "      <td>100</td>\n",
       "      <td>100</td>\n",
       "      <td>100</td>\n",
       "      <td>73</td>\n",
       "      <td>73</td>\n",
       "      <td>100</td>\n",
       "      <td>100</td>\n",
       "      <td>100</td>\n",
       "      <td>100</td>\n",
       "      <td>100</td>\n",
       "    </tr>\n",
       "  </tbody>\n",
       "</table>\n",
       "</div>"
      ],
      "text/plain": [
       "            status  card_present_flag  balance  gender  age  merchant_suburb  \\\n",
       "date                                                                           \n",
       "2018-08-01     137                 84      137     137  137               84   \n",
       "2018-08-02     152                 99      152     152  152               99   \n",
       "2018-08-03     157                 99      157     157  157               99   \n",
       "2018-08-04     118                 94      118     118  118               94   \n",
       "2018-08-05     100                 73      100     100  100               73   \n",
       "\n",
       "            merchant_state  amount  customer_id  movement  first_name  Gender  \n",
       "date                                                                           \n",
       "2018-08-01              84     137          137       137         137     137  \n",
       "2018-08-02              99     152          152       152         152     152  \n",
       "2018-08-03              99     157          157       157         157     157  \n",
       "2018-08-04              94     118          118       118         118     118  \n",
       "2018-08-05              73     100          100       100         100     100  "
      ]
     },
     "execution_count": 31,
     "metadata": {},
     "output_type": "execute_result"
    }
   ],
   "source": [
    "df_date.head()"
   ]
  },
  {
   "cell_type": "code",
   "execution_count": 32,
   "metadata": {},
   "outputs": [],
   "source": [
    "date = np.unique(df['date'])"
   ]
  },
  {
   "cell_type": "code",
   "execution_count": 33,
   "metadata": {},
   "outputs": [
    {
     "data": {
      "text/plain": [
       "array(['2018-08-01T00:00:00.000000000', '2018-08-02T00:00:00.000000000',\n",
       "       '2018-08-03T00:00:00.000000000', '2018-08-04T00:00:00.000000000',\n",
       "       '2018-08-05T00:00:00.000000000', '2018-08-06T00:00:00.000000000',\n",
       "       '2018-08-07T00:00:00.000000000', '2018-08-08T00:00:00.000000000',\n",
       "       '2018-08-09T00:00:00.000000000', '2018-08-10T00:00:00.000000000',\n",
       "       '2018-08-11T00:00:00.000000000', '2018-08-12T00:00:00.000000000',\n",
       "       '2018-08-13T00:00:00.000000000', '2018-08-14T00:00:00.000000000',\n",
       "       '2018-08-15T00:00:00.000000000', '2018-08-17T00:00:00.000000000',\n",
       "       '2018-08-18T00:00:00.000000000', '2018-08-19T00:00:00.000000000',\n",
       "       '2018-08-20T00:00:00.000000000', '2018-08-21T00:00:00.000000000',\n",
       "       '2018-08-22T00:00:00.000000000', '2018-08-23T00:00:00.000000000',\n",
       "       '2018-08-24T00:00:00.000000000', '2018-08-25T00:00:00.000000000',\n",
       "       '2018-08-26T00:00:00.000000000', '2018-08-27T00:00:00.000000000',\n",
       "       '2018-08-28T00:00:00.000000000', '2018-08-29T00:00:00.000000000',\n",
       "       '2018-08-30T00:00:00.000000000', '2018-08-31T00:00:00.000000000',\n",
       "       '2018-09-01T00:00:00.000000000', '2018-09-02T00:00:00.000000000',\n",
       "       '2018-09-03T00:00:00.000000000', '2018-09-04T00:00:00.000000000',\n",
       "       '2018-09-05T00:00:00.000000000', '2018-09-06T00:00:00.000000000',\n",
       "       '2018-09-07T00:00:00.000000000', '2018-09-08T00:00:00.000000000',\n",
       "       '2018-09-09T00:00:00.000000000', '2018-09-10T00:00:00.000000000',\n",
       "       '2018-09-11T00:00:00.000000000', '2018-09-12T00:00:00.000000000',\n",
       "       '2018-09-13T00:00:00.000000000', '2018-09-14T00:00:00.000000000',\n",
       "       '2018-09-15T00:00:00.000000000', '2018-09-16T00:00:00.000000000',\n",
       "       '2018-09-17T00:00:00.000000000', '2018-09-18T00:00:00.000000000',\n",
       "       '2018-09-19T00:00:00.000000000', '2018-09-20T00:00:00.000000000',\n",
       "       '2018-09-21T00:00:00.000000000', '2018-09-22T00:00:00.000000000',\n",
       "       '2018-09-23T00:00:00.000000000', '2018-09-24T00:00:00.000000000',\n",
       "       '2018-09-25T00:00:00.000000000', '2018-09-26T00:00:00.000000000',\n",
       "       '2018-09-27T00:00:00.000000000', '2018-09-28T00:00:00.000000000',\n",
       "       '2018-09-29T00:00:00.000000000', '2018-09-30T00:00:00.000000000',\n",
       "       '2018-10-01T00:00:00.000000000', '2018-10-02T00:00:00.000000000',\n",
       "       '2018-10-03T00:00:00.000000000', '2018-10-04T00:00:00.000000000',\n",
       "       '2018-10-05T00:00:00.000000000', '2018-10-06T00:00:00.000000000',\n",
       "       '2018-10-07T00:00:00.000000000', '2018-10-08T00:00:00.000000000',\n",
       "       '2018-10-09T00:00:00.000000000', '2018-10-10T00:00:00.000000000',\n",
       "       '2018-10-11T00:00:00.000000000', '2018-10-12T00:00:00.000000000',\n",
       "       '2018-10-13T00:00:00.000000000', '2018-10-14T00:00:00.000000000',\n",
       "       '2018-10-15T00:00:00.000000000', '2018-10-16T00:00:00.000000000',\n",
       "       '2018-10-17T00:00:00.000000000', '2018-10-18T00:00:00.000000000',\n",
       "       '2018-10-19T00:00:00.000000000', '2018-10-20T00:00:00.000000000',\n",
       "       '2018-10-21T00:00:00.000000000', '2018-10-22T00:00:00.000000000',\n",
       "       '2018-10-23T00:00:00.000000000', '2018-10-24T00:00:00.000000000',\n",
       "       '2018-10-25T00:00:00.000000000', '2018-10-26T00:00:00.000000000',\n",
       "       '2018-10-27T00:00:00.000000000', '2018-10-28T00:00:00.000000000',\n",
       "       '2018-10-29T00:00:00.000000000', '2018-10-30T00:00:00.000000000',\n",
       "       '2018-10-31T00:00:00.000000000'], dtype='datetime64[ns]')"
      ]
     },
     "execution_count": 33,
     "metadata": {},
     "output_type": "execute_result"
    }
   ],
   "source": [
    "date"
   ]
  },
  {
   "cell_type": "markdown",
   "metadata": {},
   "source": [
    "Here is a catch\n",
    "we can see that in the date column only three months are present like 8, 9 and 10 means 'augest', 'sepetember' and 'october' so we can put this for monthly transaction "
   ]
  },
  {
   "cell_type": "code",
   "execution_count": 35,
   "metadata": {},
   "outputs": [],
   "source": [
    "trans_vol = df_date[\"customer_id\"].mean()\n",
    "n_points = len(df_date.index)"
   ]
  },
  {
   "cell_type": "code",
   "execution_count": 36,
   "metadata": {},
   "outputs": [
    {
     "data": {
      "text/plain": [
       "132.34065934065933"
      ]
     },
     "execution_count": 36,
     "metadata": {},
     "output_type": "execute_result"
    }
   ],
   "source": [
    "trans_vol"
   ]
  },
  {
   "cell_type": "code",
   "execution_count": 37,
   "metadata": {},
   "outputs": [
    {
     "data": {
      "text/plain": [
       "91"
      ]
     },
     "execution_count": 37,
     "metadata": {},
     "output_type": "execute_result"
    }
   ],
   "source": [
    "n_points"
   ]
  },
  {
   "cell_type": "code",
   "execution_count": 41,
   "metadata": {},
   "outputs": [
    {
     "data": {
      "image/png": "[encoded data removed]",
      "text/plain": [
       "<Figure size 648x360 with 1 Axes>"
      ]
     },
     "metadata": {
      "needs_background": "light"
     },
     "output_type": "display_data"
    }
   ],
   "source": [
    "plt.figure(figsize=(9, 5))\n",
    "plt.plot(df_date.index, df_date[\"customer_id\"], c=\"blue\", label = \"Customer_id\")\n",
    "plt.plot(df_date.index, np.linspace(trans_vol,trans_vol,n_points), c=\"red\", label = \"Mean transaction volume\")\n",
    "plt.title(\"ANZ Transaction Volume vs. Date\")\n",
    "plt.xlabel(\"Date\")\n",
    "plt.ylabel(\"Number of customers\")\n",
    "plt.legend()\n",
    "plt.tight_layout()"
   ]
  },
  {
   "cell_type": "markdown",
   "metadata": {},
   "source": [
    "# Average transaction made on each day"
   ]
  },
  {
   "cell_type": "code",
   "execution_count": 42,
   "metadata": {},
   "outputs": [],
   "source": [
    "df_date_mean = df.groupby('date').mean()"
   ]
  },
  {
   "cell_type": "code",
   "execution_count": 44,
   "metadata": {},
   "outputs": [],
   "source": [
    "trans_amt = df_date_mean[\"amount\"].mean()\n",
    "n_points = len(df_date.index)"
   ]
  },
  {
   "cell_type": "code",
   "execution_count": 48,
   "metadata": {},
   "outputs": [
    {
     "data": {
      "image/png": "[encoded data removed]",
      "text/plain": [
       "<Figure size 648x360 with 1 Axes>"
      ]
     },
     "metadata": {
      "needs_background": "light"
     },
     "output_type": "display_data"
    }
   ],
   "source": [
    "plt.figure(figsize=(9, 5))\n",
    "plt.plot(df_date.index, df_date_mean[\"amount\"], c=\"blue\", label = \"Amount\")\n",
    "plt.plot(df_date.index, np.linspace(trans_amt,trans_amt,n_points), c=\"red\", label = \"Overall mean transaction amount\")\n",
    "plt.title(\"ANZ Mean Transaction Amount vs. Date\")\n",
    "plt.xlabel(\"Date\")\n",
    "plt.ylabel(\"Amount\")\n",
    "plt.legend()\n",
    "plt.tight_layout()"
   ]
  },
  {
   "cell_type": "markdown",
   "metadata": {},
   "source": [
    "# Monthly transaction"
   ]
  },
  {
   "cell_type": "code",
   "execution_count": 49,
   "metadata": {},
   "outputs": [
    {
     "data": {
      "text/plain": [
       "0    August\n",
       "1    August\n",
       "2    August\n",
       "3    August\n",
       "4    August\n",
       "Name: Months, dtype: object"
      ]
     },
     "execution_count": 49,
     "metadata": {},
     "output_type": "execute_result"
    }
   ],
   "source": [
    "months = []\n",
    "for date in df[\"date\"]:\n",
    "    if date.month == 8:\n",
    "        months.append(\"August\")\n",
    "    elif date.month == 9:\n",
    "        months.append(\"September\")\n",
    "    elif date.month == 10:\n",
    "        months.append(\"October\")\n",
    "\n",
    "df[\"Months\"] = months\n",
    "df[\"Months\"].head()"
   ]
  },
  {
   "cell_type": "markdown",
   "metadata": {},
   "source": [
    "# Mean customer balance and payment amount by age\n",
    "\n",
    "\n"
   ]
  },
  {
   "cell_type": "markdown",
   "metadata": {},
   "source": [
    "# Augest Month"
   ]
  },
  {
   "cell_type": "code",
   "execution_count": 53,
   "metadata": {},
   "outputs": [],
   "source": [
    "df_cus_aug = df[df[\"Months\"] == \"August\"].groupby(\"customer_id\").mean()\n",
    "df_gen_aug = df[df[\"Months\"] == \"August\"].groupby(\"Gender\").mean()"
   ]
  },
  {
   "cell_type": "code",
   "execution_count": 54,
   "metadata": {},
   "outputs": [],
   "source": [
    "mean_f_bal_aug = df_gen_aug[\"balance\"].iloc[0]\n",
    "mean_m_bal_aug = df_gen_aug[\"balance\"].iloc[1]\n",
    "n_points = len(df_cus_aug[\"age\"])"
   ]
  },
  {
   "cell_type": "code",
   "execution_count": 55,
   "metadata": {},
   "outputs": [
    {
     "data": {
      "image/png": "[encoded data removed]",
      "text/plain": [
       "<Figure size 432x288 with 1 Axes>"
      ]
     },
     "metadata": {
      "needs_background": "light"
     },
     "output_type": "display_data"
    }
   ],
   "source": [
    "plt.figure()\n",
    "plt.scatter(df_cus_aug[\"age\"], df_cus_aug[\"balance\"], c=\"black\", label=\"Balance\")\n",
    "plt.plot(df_cus_aug[\"age\"], np.linspace(mean_f_bal_aug,mean_f_bal_aug,n_points), c=\"r\", label = \"Mean female balance\")\n",
    "plt.plot(df_cus_aug[\"age\"], np.linspace(mean_m_bal_aug,mean_m_bal_aug,n_points), c=\"b\", label = \"Mean male balance\")\n",
    "plt.title(\"ANZ Customer Balance vs. Age for August\")\n",
    "plt.xlabel(\"Age (years)\")\n",
    "plt.ylabel(\"Balance\")\n",
    "plt.legend()\n",
    "plt.tight_layout()"
   ]
  },
  {
   "cell_type": "code",
   "execution_count": 56,
   "metadata": {},
   "outputs": [],
   "source": [
    "mean_f_amt_aug = df_gen_aug[\"amount\"].iloc[0]\n",
    "mean_m_amt_aug = df_gen_aug[\"amount\"].iloc[1]\n"
   ]
  },
  {
   "cell_type": "code",
   "execution_count": 57,
   "metadata": {},
   "outputs": [
    {
     "data": {
      "image/png": "[encoded data removed]",
      "text/plain": [
       "<Figure size 432x288 with 1 Axes>"
      ]
     },
     "metadata": {
      "needs_background": "light"
     },
     "output_type": "display_data"
    }
   ],
   "source": [
    "plt.scatter(df_cus_aug[\"age\"], df_cus_aug[\"amount\"], c=\"black\", label=\"Amount\")\n",
    "plt.plot(df_cus_aug[\"age\"], np.linspace(mean_f_amt_aug,mean_f_amt_aug,n_points), c=\"r\", label = \"Mean female amount\")\n",
    "plt.plot(df_cus_aug[\"age\"], np.linspace(mean_m_amt_aug,mean_m_amt_aug,n_points), c=\"b\", label = \"Mean male amount\")\n",
    "plt.title(\"ANZ Customer Mean Payment Amount vs. Age for August\")\n",
    "plt.xlabel(\"Age (years)\")\n",
    "plt.ylabel(\"Amount ($)\")\n",
    "plt.legend()\n",
    "plt.tight_layout()"
   ]
  },
  {
   "cell_type": "markdown",
   "metadata": {},
   "source": [
    "# September Month "
   ]
  },
  {
   "cell_type": "code",
   "execution_count": 58,
   "metadata": {},
   "outputs": [],
   "source": [
    "df_cus_sep = df[df[\"Months\"] == \"September\"].groupby(\"customer_id\").mean()\n",
    "df_gen_sep = df[df[\"Months\"] == \"September\"].groupby(\"gender\").mean()"
   ]
  },
  {
   "cell_type": "code",
   "execution_count": 59,
   "metadata": {},
   "outputs": [],
   "source": [
    "mean_f_bal_sep = df_gen_sep[\"balance\"].iloc[0]\n",
    "mean_m_bal_sep = df_gen_sep[\"balance\"].iloc[1]\n",
    "n_points = len(df_cus_sep[\"age\"])\n"
   ]
  },
  {
   "cell_type": "code",
   "execution_count": 60,
   "metadata": {},
   "outputs": [
    {
     "data": {
      "image/png": "[encoded data removed]",
      "text/plain": [
       "<Figure size 432x288 with 1 Axes>"
      ]
     },
     "metadata": {
      "needs_background": "light"
     },
     "output_type": "display_data"
    }
   ],
   "source": [
    "plt.figure()\n",
    "plt.scatter(df_cus_sep[\"age\"], df_cus_sep[\"balance\"], c=\"black\", label=\"Balance\")\n",
    "plt.plot(df_cus_sep[\"age\"], np.linspace(mean_f_bal_sep,mean_f_bal_sep,n_points), c=\"r\", label = \"Mean female balance\")\n",
    "plt.plot(df_cus_sep[\"age\"], np.linspace(mean_m_bal_sep,mean_m_bal_sep,n_points), c=\"b\", label = \"Mean male balance\")\n",
    "plt.title(\"ANZ Customer Balance vs. Age for September\")\n",
    "plt.xlabel(\"Age (years)\")\n",
    "plt.ylabel(\"Balance ($)\")\n",
    "plt.legend()\n",
    "plt.tight_layout()\n"
   ]
  },
  {
   "cell_type": "code",
   "execution_count": 61,
   "metadata": {},
   "outputs": [],
   "source": [
    "mean_f_amt_sep = df_gen_sep[\"amount\"].iloc[0]\n",
    "mean_m_amt_sep = df_gen_sep[\"amount\"].iloc[1]"
   ]
  },
  {
   "cell_type": "code",
   "execution_count": 62,
   "metadata": {},
   "outputs": [
    {
     "data": {
      "image/png": "[encoded data removed]",
      "text/plain": [
       "<Figure size 432x288 with 1 Axes>"
      ]
     },
     "metadata": {
      "needs_background": "light"
     },
     "output_type": "display_data"
    }
   ],
   "source": [
    "plt.scatter(df_cus_sep[\"age\"], df_cus_sep[\"amount\"], c=\"black\", label=\"Amount\")\n",
    "plt.plot(df_cus_sep[\"age\"], np.linspace(mean_f_amt_sep,mean_f_amt_sep,n_points), c=\"r\", label = \"Mean female amount\")\n",
    "plt.plot(df_cus_sep[\"age\"], np.linspace(mean_m_amt_sep,mean_m_amt_sep,n_points), c=\"b\", label = \"Mean male amount\")\n",
    "plt.title(\"ANZ Customer Mean Payment Amount vs. Age for September\")\n",
    "plt.xlabel(\"Age (years)\")\n",
    "plt.ylabel(\"Amount ($)\")\n",
    "plt.legend()\n",
    "plt.tight_layout()"
   ]
  },
  {
   "cell_type": "markdown",
   "metadata": {},
   "source": [
    "# October Month"
   ]
  },
  {
   "cell_type": "code",
   "execution_count": 63,
   "metadata": {},
   "outputs": [],
   "source": [
    "df_cus_oct = df[df[\"Months\"] == \"October\"].groupby(\"customer_id\").mean()\n",
    "df_gen_oct = df[df[\"Months\"] == \"October\"].groupby(\"gender\").mean()"
   ]
  },
  {
   "cell_type": "code",
   "execution_count": 64,
   "metadata": {},
   "outputs": [],
   "source": [
    "mean_f_bal_oct = df_gen_oct[\"balance\"].iloc[0]\n",
    "mean_m_bal_oct = df_gen_oct[\"balance\"].iloc[1]\n",
    "n_points = len(df_cus_oct[\"age\"])"
   ]
  },
  {
   "cell_type": "code",
   "execution_count": 65,
   "metadata": {},
   "outputs": [
    {
     "data": {
      "image/png": "[encoded data removed]",
      "text/plain": [
       "<Figure size 432x288 with 1 Axes>"
      ]
     },
     "metadata": {
      "needs_background": "light"
     },
     "output_type": "display_data"
    }
   ],
   "source": [
    "plt.figure()\n",
    "plt.scatter(df_cus_oct[\"age\"], df_cus_oct[\"balance\"], c=\"black\", label=\"Balance\")\n",
    "plt.plot(df_cus_oct[\"age\"], np.linspace(mean_f_bal_oct,mean_f_bal_oct,n_points), c=\"r\", label = \"Mean female balance\")\n",
    "plt.plot(df_cus_oct[\"age\"], np.linspace(mean_m_bal_oct,mean_m_bal_oct,n_points), c=\"b\", label = \"Mean male balance\")\n",
    "plt.title(\"ANZ Customer Balance vs. Age for October\")\n",
    "plt.xlabel(\"Age (years)\")\n",
    "plt.ylabel(\"Balance ($)\")\n",
    "plt.legend()\n",
    "plt.tight_layout()"
   ]
  },
  {
   "cell_type": "code",
   "execution_count": 66,
   "metadata": {},
   "outputs": [],
   "source": [
    "mean_f_amt_oct = df_gen_oct[\"amount\"].iloc[0]\n",
    "mean_m_amt_oct = df_gen_oct[\"amount\"].iloc[1]\n"
   ]
  },
  {
   "cell_type": "code",
   "execution_count": 67,
   "metadata": {},
   "outputs": [
    {
     "data": {
      "image/png": "[encoded data removed]",
      "text/plain": [
       "<Figure size 432x288 with 1 Axes>"
      ]
     },
     "metadata": {
      "needs_background": "light"
     },
     "output_type": "display_data"
    }
   ],
   "source": [
    "\n",
    "plt.scatter(df_cus_oct[\"age\"], df_cus_oct[\"amount\"], c=\"black\", label=\"Amount\")\n",
    "plt.plot(df_cus_oct[\"age\"], np.linspace(mean_f_amt_oct,mean_f_amt_oct,n_points), c=\"r\", label = \"Mean female amount\")\n",
    "plt.plot(df_cus_oct[\"age\"], np.linspace(mean_m_amt_oct,mean_m_amt_oct,n_points), c=\"b\", label = \"Mean male amount\")\n",
    "plt.title(\"ANZ Customer Mean Payment Amount vs. Age for October\")\n",
    "plt.xlabel(\"Age (years)\")\n",
    "plt.ylabel(\"Amount ($)\")\n",
    "plt.legend()\n",
    "plt.tight_layout()"
   ]
  },
  {
   "cell_type": "markdown",
   "metadata": {},
   "source": [
    "# Second Task"
   ]
  },
  {
   "cell_type": "code",
   "execution_count": 68,
   "metadata": {},
   "outputs": [],
   "source": [
    "df1 = pd.read_excel(r\"C:\\Users\\parag\\Desktop\\ANZ synthesised transaction dataset.xlsx\")"
   ]
  },
  {
   "cell_type": "code",
   "execution_count": 69,
   "metadata": {},
   "outputs": [
    {
     "data": {
      "text/html": [
       "<div>\n",
       "<style scoped>\n",
       "    .dataframe tbody tr th:only-of-type {\n",
       "        vertical-align: middle;\n",
       "    }\n",
       "\n",
       "    .dataframe tbody tr th {\n",
       "        vertical-align: top;\n",
       "    }\n",
       "\n",
       "    .dataframe thead th {\n",
       "        text-align: right;\n",
       "    }\n",
       "</style>\n",
       "<table border=\"1\" class=\"dataframe\">\n",
       "  <thead>\n",
       "    <tr style=\"text-align: right;\">\n",
       "      <th></th>\n",
       "      <th>status</th>\n",
       "      <th>card_present_flag</th>\n",
       "      <th>bpay_biller_code</th>\n",
       "      <th>account</th>\n",
       "      <th>currency</th>\n",
       "      <th>long_lat</th>\n",
       "      <th>txn_description</th>\n",
       "      <th>merchant_id</th>\n",
       "      <th>merchant_code</th>\n",
       "      <th>first_name</th>\n",
       "      <th>...</th>\n",
       "      <th>age</th>\n",
       "      <th>merchant_suburb</th>\n",
       "      <th>merchant_state</th>\n",
       "      <th>extraction</th>\n",
       "      <th>amount</th>\n",
       "      <th>transaction_id</th>\n",
       "      <th>country</th>\n",
       "      <th>customer_id</th>\n",
       "      <th>merchant_long_lat</th>\n",
       "      <th>movement</th>\n",
       "    </tr>\n",
       "  </thead>\n",
       "  <tbody>\n",
       "    <tr>\n",
       "      <th>0</th>\n",
       "      <td>authorized</td>\n",
       "      <td>1.0</td>\n",
       "      <td>NaN</td>\n",
       "      <td>ACC-1598451071</td>\n",
       "      <td>AUD</td>\n",
       "      <td>153.41 -27.95</td>\n",
       "      <td>POS</td>\n",
       "      <td>81c48296-73be-44a7-befa-d053f48ce7cd</td>\n",
       "      <td>NaN</td>\n",
       "      <td>Diana</td>\n",
       "      <td>...</td>\n",
       "      <td>26</td>\n",
       "      <td>Ashmore</td>\n",
       "      <td>QLD</td>\n",
       "      <td>2018-08-01T01:01:15.000+0000</td>\n",
       "      <td>16.25</td>\n",
       "      <td>a623070bfead4541a6b0fff8a09e706c</td>\n",
       "      <td>Australia</td>\n",
       "      <td>CUS-2487424745</td>\n",
       "      <td>153.38 -27.99</td>\n",
       "      <td>debit</td>\n",
       "    </tr>\n",
       "    <tr>\n",
       "      <th>1</th>\n",
       "      <td>authorized</td>\n",
       "      <td>0.0</td>\n",
       "      <td>NaN</td>\n",
       "      <td>ACC-1598451071</td>\n",
       "      <td>AUD</td>\n",
       "      <td>153.41 -27.95</td>\n",
       "      <td>SALES-POS</td>\n",
       "      <td>830a451c-316e-4a6a-bf25-e37caedca49e</td>\n",
       "      <td>NaN</td>\n",
       "      <td>Diana</td>\n",
       "      <td>...</td>\n",
       "      <td>26</td>\n",
       "      <td>Sydney</td>\n",
       "      <td>NSW</td>\n",
       "      <td>2018-08-01T01:13:45.000+0000</td>\n",
       "      <td>14.19</td>\n",
       "      <td>13270a2a902145da9db4c951e04b51b9</td>\n",
       "      <td>Australia</td>\n",
       "      <td>CUS-2487424745</td>\n",
       "      <td>151.21 -33.87</td>\n",
       "      <td>debit</td>\n",
       "    </tr>\n",
       "    <tr>\n",
       "      <th>2</th>\n",
       "      <td>authorized</td>\n",
       "      <td>1.0</td>\n",
       "      <td>NaN</td>\n",
       "      <td>ACC-1222300524</td>\n",
       "      <td>AUD</td>\n",
       "      <td>151.23 -33.94</td>\n",
       "      <td>POS</td>\n",
       "      <td>835c231d-8cdf-4e96-859d-e9d571760cf0</td>\n",
       "      <td>NaN</td>\n",
       "      <td>Michael</td>\n",
       "      <td>...</td>\n",
       "      <td>38</td>\n",
       "      <td>Sydney</td>\n",
       "      <td>NSW</td>\n",
       "      <td>2018-08-01T01:26:15.000+0000</td>\n",
       "      <td>6.42</td>\n",
       "      <td>feb79e7ecd7048a5a36ec889d1a94270</td>\n",
       "      <td>Australia</td>\n",
       "      <td>CUS-2142601169</td>\n",
       "      <td>151.21 -33.87</td>\n",
       "      <td>debit</td>\n",
       "    </tr>\n",
       "    <tr>\n",
       "      <th>3</th>\n",
       "      <td>authorized</td>\n",
       "      <td>1.0</td>\n",
       "      <td>NaN</td>\n",
       "      <td>ACC-1037050564</td>\n",
       "      <td>AUD</td>\n",
       "      <td>153.10 -27.66</td>\n",
       "      <td>SALES-POS</td>\n",
       "      <td>48514682-c78a-4a88-b0da-2d6302e64673</td>\n",
       "      <td>NaN</td>\n",
       "      <td>Rhonda</td>\n",
       "      <td>...</td>\n",
       "      <td>40</td>\n",
       "      <td>Buderim</td>\n",
       "      <td>QLD</td>\n",
       "      <td>2018-08-01T01:38:45.000+0000</td>\n",
       "      <td>40.90</td>\n",
       "      <td>2698170da3704fd981b15e64a006079e</td>\n",
       "      <td>Australia</td>\n",
       "      <td>CUS-1614226872</td>\n",
       "      <td>153.05 -26.68</td>\n",
       "      <td>debit</td>\n",
       "    </tr>\n",
       "    <tr>\n",
       "      <th>4</th>\n",
       "      <td>authorized</td>\n",
       "      <td>1.0</td>\n",
       "      <td>NaN</td>\n",
       "      <td>ACC-1598451071</td>\n",
       "      <td>AUD</td>\n",
       "      <td>153.41 -27.95</td>\n",
       "      <td>SALES-POS</td>\n",
       "      <td>b4e02c10-0852-4273-b8fd-7b3395e32eb0</td>\n",
       "      <td>NaN</td>\n",
       "      <td>Diana</td>\n",
       "      <td>...</td>\n",
       "      <td>26</td>\n",
       "      <td>Mermaid Beach</td>\n",
       "      <td>QLD</td>\n",
       "      <td>2018-08-01T01:51:15.000+0000</td>\n",
       "      <td>3.25</td>\n",
       "      <td>329adf79878c4cf0aeb4188b4691c266</td>\n",
       "      <td>Australia</td>\n",
       "      <td>CUS-2487424745</td>\n",
       "      <td>153.44 -28.06</td>\n",
       "      <td>debit</td>\n",
       "    </tr>\n",
       "  </tbody>\n",
       "</table>\n",
       "<p>5 rows × 23 columns</p>\n",
       "</div>"
      ],
      "text/plain": [
       "       status  card_present_flag bpay_biller_code         account currency  \\\n",
       "0  authorized                1.0              NaN  ACC-1598451071      AUD   \n",
       "1  authorized                0.0              NaN  ACC-1598451071      AUD   \n",
       "2  authorized                1.0              NaN  ACC-1222300524      AUD   \n",
       "3  authorized                1.0              NaN  ACC-1037050564      AUD   \n",
       "4  authorized                1.0              NaN  ACC-1598451071      AUD   \n",
       "\n",
       "        long_lat txn_description                           merchant_id  \\\n",
       "0  153.41 -27.95             POS  81c48296-73be-44a7-befa-d053f48ce7cd   \n",
       "1  153.41 -27.95       SALES-POS  830a451c-316e-4a6a-bf25-e37caedca49e   \n",
       "2  151.23 -33.94             POS  835c231d-8cdf-4e96-859d-e9d571760cf0   \n",
       "3  153.10 -27.66       SALES-POS  48514682-c78a-4a88-b0da-2d6302e64673   \n",
       "4  153.41 -27.95       SALES-POS  b4e02c10-0852-4273-b8fd-7b3395e32eb0   \n",
       "\n",
       "   merchant_code first_name   ...     age merchant_suburb merchant_state  \\\n",
       "0            NaN      Diana   ...      26         Ashmore            QLD   \n",
       "1            NaN      Diana   ...      26          Sydney            NSW   \n",
       "2            NaN    Michael   ...      38          Sydney            NSW   \n",
       "3            NaN     Rhonda   ...      40         Buderim            QLD   \n",
       "4            NaN      Diana   ...      26   Mermaid Beach            QLD   \n",
       "\n",
       "                     extraction amount                    transaction_id  \\\n",
       "0  2018-08-01T01:01:15.000+0000  16.25  a623070bfead4541a6b0fff8a09e706c   \n",
       "1  2018-08-01T01:13:45.000+0000  14.19  13270a2a902145da9db4c951e04b51b9   \n",
       "2  2018-08-01T01:26:15.000+0000   6.42  feb79e7ecd7048a5a36ec889d1a94270   \n",
       "3  2018-08-01T01:38:45.000+0000  40.90  2698170da3704fd981b15e64a006079e   \n",
       "4  2018-08-01T01:51:15.000+0000   3.25  329adf79878c4cf0aeb4188b4691c266   \n",
       "\n",
       "     country     customer_id merchant_long_lat movement  \n",
       "0  Australia  CUS-2487424745     153.38 -27.99    debit  \n",
       "1  Australia  CUS-2487424745     151.21 -33.87    debit  \n",
       "2  Australia  CUS-2142601169     151.21 -33.87    debit  \n",
       "3  Australia  CUS-1614226872     153.05 -26.68    debit  \n",
       "4  Australia  CUS-2487424745     153.44 -28.06    debit  \n",
       "\n",
       "[5 rows x 23 columns]"
      ]
     },
     "execution_count": 69,
     "metadata": {},
     "output_type": "execute_result"
    }
   ],
   "source": [
    "df1.head()"
   ]
  },
  {
   "cell_type": "code",
   "execution_count": 71,
   "metadata": {},
   "outputs": [
    {
     "data": {
      "text/html": [
       "<div>\n",
       "<style scoped>\n",
       "    .dataframe tbody tr th:only-of-type {\n",
       "        vertical-align: middle;\n",
       "    }\n",
       "\n",
       "    .dataframe tbody tr th {\n",
       "        vertical-align: top;\n",
       "    }\n",
       "\n",
       "    .dataframe thead th {\n",
       "        text-align: right;\n",
       "    }\n",
       "</style>\n",
       "<table border=\"1\" class=\"dataframe\">\n",
       "  <thead>\n",
       "    <tr style=\"text-align: right;\">\n",
       "      <th></th>\n",
       "      <th>card_present_flag</th>\n",
       "      <th>merchant_code</th>\n",
       "      <th>balance</th>\n",
       "      <th>age</th>\n",
       "      <th>amount</th>\n",
       "    </tr>\n",
       "    <tr>\n",
       "      <th>customer_id</th>\n",
       "      <th></th>\n",
       "      <th></th>\n",
       "      <th></th>\n",
       "      <th></th>\n",
       "      <th></th>\n",
       "    </tr>\n",
       "  </thead>\n",
       "  <tbody>\n",
       "    <tr>\n",
       "      <th>CUS-1005756958</th>\n",
       "      <td>NaN</td>\n",
       "      <td>0.0</td>\n",
       "      <td>4718.665385</td>\n",
       "      <td>53</td>\n",
       "      <td>970.47</td>\n",
       "    </tr>\n",
       "    <tr>\n",
       "      <th>CUS-1117979751</th>\n",
       "      <td>NaN</td>\n",
       "      <td>0.0</td>\n",
       "      <td>11957.202857</td>\n",
       "      <td>21</td>\n",
       "      <td>3578.65</td>\n",
       "    </tr>\n",
       "    <tr>\n",
       "      <th>CUS-1140341822</th>\n",
       "      <td>NaN</td>\n",
       "      <td>0.0</td>\n",
       "      <td>5841.720000</td>\n",
       "      <td>28</td>\n",
       "      <td>1916.51</td>\n",
       "    </tr>\n",
       "    <tr>\n",
       "      <th>CUS-1147642491</th>\n",
       "      <td>NaN</td>\n",
       "      <td>0.0</td>\n",
       "      <td>8813.467692</td>\n",
       "      <td>34</td>\n",
       "      <td>1711.39</td>\n",
       "    </tr>\n",
       "    <tr>\n",
       "      <th>CUS-1196156254</th>\n",
       "      <td>NaN</td>\n",
       "      <td>0.0</td>\n",
       "      <td>23845.717143</td>\n",
       "      <td>34</td>\n",
       "      <td>3903.73</td>\n",
       "    </tr>\n",
       "  </tbody>\n",
       "</table>\n",
       "</div>"
      ],
      "text/plain": [
       "                card_present_flag  merchant_code       balance  age   amount\n",
       "customer_id                                                                 \n",
       "CUS-1005756958                NaN            0.0   4718.665385   53   970.47\n",
       "CUS-1117979751                NaN            0.0  11957.202857   21  3578.65\n",
       "CUS-1140341822                NaN            0.0   5841.720000   28  1916.51\n",
       "CUS-1147642491                NaN            0.0   8813.467692   34  1711.39\n",
       "CUS-1196156254                NaN            0.0  23845.717143   34  3903.73"
      ]
     },
     "execution_count": 71,
     "metadata": {},
     "output_type": "execute_result"
    }
   ],
   "source": [
    "df_salaries = df1[df1[\"txn_description\"]==\"PAY/SALARY\"].groupby(\"customer_id\").mean()\n",
    "df_salaries.head()"
   ]
  },
  {
   "cell_type": "code",
   "execution_count": 72,
   "metadata": {},
   "outputs": [],
   "source": [
    "salaries = []\n",
    "\n",
    "for customer_id in df[\"customer_id\"]:\n",
    "    salaries.append(int(df_salaries.loc[customer_id][\"amount\"]))\n",
    "    \n",
    "df[\"annual_salary\"] = salaries"
   ]
  },
  {
   "cell_type": "code",
   "execution_count": 73,
   "metadata": {},
   "outputs": [
    {
     "data": {
      "text/html": [
       "<div>\n",
       "<style scoped>\n",
       "    .dataframe tbody tr th:only-of-type {\n",
       "        vertical-align: middle;\n",
       "    }\n",
       "\n",
       "    .dataframe tbody tr th {\n",
       "        vertical-align: top;\n",
       "    }\n",
       "\n",
       "    .dataframe thead th {\n",
       "        text-align: right;\n",
       "    }\n",
       "</style>\n",
       "<table border=\"1\" class=\"dataframe\">\n",
       "  <thead>\n",
       "    <tr style=\"text-align: right;\">\n",
       "      <th></th>\n",
       "      <th>card_present_flag</th>\n",
       "      <th>balance</th>\n",
       "      <th>age</th>\n",
       "      <th>amount</th>\n",
       "      <th>Gender</th>\n",
       "      <th>annual_salary</th>\n",
       "    </tr>\n",
       "    <tr>\n",
       "      <th>customer_id</th>\n",
       "      <th></th>\n",
       "      <th></th>\n",
       "      <th></th>\n",
       "      <th></th>\n",
       "      <th></th>\n",
       "      <th></th>\n",
       "    </tr>\n",
       "  </thead>\n",
       "  <tbody>\n",
       "    <tr>\n",
       "      <th>CUS-1005756958</th>\n",
       "      <td>0.812500</td>\n",
       "      <td>2275.852055</td>\n",
       "      <td>53</td>\n",
       "      <td>222.862603</td>\n",
       "      <td>0</td>\n",
       "      <td>970</td>\n",
       "    </tr>\n",
       "    <tr>\n",
       "      <th>CUS-1117979751</th>\n",
       "      <td>0.826923</td>\n",
       "      <td>9829.929000</td>\n",
       "      <td>21</td>\n",
       "      <td>339.843700</td>\n",
       "      <td>1</td>\n",
       "      <td>3578</td>\n",
       "    </tr>\n",
       "    <tr>\n",
       "      <th>CUS-1140341822</th>\n",
       "      <td>0.815385</td>\n",
       "      <td>5699.212250</td>\n",
       "      <td>28</td>\n",
       "      <td>212.632500</td>\n",
       "      <td>1</td>\n",
       "      <td>1916</td>\n",
       "    </tr>\n",
       "    <tr>\n",
       "      <th>CUS-1147642491</th>\n",
       "      <td>0.750000</td>\n",
       "      <td>9032.841186</td>\n",
       "      <td>34</td>\n",
       "      <td>245.600169</td>\n",
       "      <td>0</td>\n",
       "      <td>1711</td>\n",
       "    </tr>\n",
       "    <tr>\n",
       "      <th>CUS-1196156254</th>\n",
       "      <td>0.785276</td>\n",
       "      <td>22272.433755</td>\n",
       "      <td>34</td>\n",
       "      <td>147.145796</td>\n",
       "      <td>0</td>\n",
       "      <td>3903</td>\n",
       "    </tr>\n",
       "  </tbody>\n",
       "</table>\n",
       "</div>"
      ],
      "text/plain": [
       "                card_present_flag       balance  age      amount  Gender  \\\n",
       "customer_id                                                                \n",
       "CUS-1005756958           0.812500   2275.852055   53  222.862603       0   \n",
       "CUS-1117979751           0.826923   9829.929000   21  339.843700       1   \n",
       "CUS-1140341822           0.815385   5699.212250   28  212.632500       1   \n",
       "CUS-1147642491           0.750000   9032.841186   34  245.600169       0   \n",
       "CUS-1196156254           0.785276  22272.433755   34  147.145796       0   \n",
       "\n",
       "                annual_salary  \n",
       "customer_id                    \n",
       "CUS-1005756958            970  \n",
       "CUS-1117979751           3578  \n",
       "CUS-1140341822           1916  \n",
       "CUS-1147642491           1711  \n",
       "CUS-1196156254           3903  "
      ]
     },
     "execution_count": 73,
     "metadata": {},
     "output_type": "execute_result"
    }
   ],
   "source": [
    "df_cus = df.groupby(\"customer_id\").mean()\n",
    "df_cus.head()"
   ]
  },
  {
   "cell_type": "code",
   "execution_count": 74,
   "metadata": {},
   "outputs": [],
   "source": [
    "from sklearn.linear_model import LinearRegression\n",
    "from sklearn.tree import DecisionTreeClassifier, DecisionTreeRegressor"
   ]
  },
  {
   "cell_type": "code",
   "execution_count": 75,
   "metadata": {},
   "outputs": [],
   "source": [
    "N_train = int(len(df_cus)*0.8)\n",
    "X_train = df_cus.drop(\"annual_salary\", axis=1).iloc[:N_train]\n",
    "Y_train = df_cus[\"annual_salary\"].iloc[:N_train]\n",
    "X_test = df_cus.drop(\"annual_salary\", axis=1).iloc[N_train:]\n",
    "Y_test = df_cus[\"annual_salary\"].iloc[N_train:]"
   ]
  },
  {
   "cell_type": "code",
   "execution_count": 76,
   "metadata": {},
   "outputs": [],
   "source": [
    "linear_reg = LinearRegression()\n"
   ]
  },
  {
   "cell_type": "code",
   "execution_count": 77,
   "metadata": {},
   "outputs": [
    {
     "data": {
      "text/plain": [
       "0.25125502278981104"
      ]
     },
     "execution_count": 77,
     "metadata": {},
     "output_type": "execute_result"
    }
   ],
   "source": [
    "linear_reg.fit(X_train, Y_train)\n",
    "linear_reg.score(X_train, Y_train)"
   ]
  },
  {
   "cell_type": "code",
   "execution_count": 78,
   "metadata": {},
   "outputs": [
    {
     "data": {
      "text/plain": [
       "array([2200.05698027, 3015.51938129, 2138.46335942, 1624.96617471,\n",
       "       2022.89213756, 1874.96796331, 2021.17342482, 5381.31506771,\n",
       "       1709.81108479, 2393.27968039, 1915.14713654, 2430.38983054,\n",
       "       2290.52968703, 3520.70151672, 2049.9654424 , 1568.21986096,\n",
       "       1902.72080258, 1743.74199069, 1979.17582627, 2264.6264773 ])"
      ]
     },
     "execution_count": 78,
     "metadata": {},
     "output_type": "execute_result"
    }
   ],
   "source": [
    "linear_reg.predict(X_test)"
   ]
  },
  {
   "cell_type": "code",
   "execution_count": 79,
   "metadata": {},
   "outputs": [
    {
     "data": {
      "text/plain": [
       "-0.35101019876002404"
      ]
     },
     "execution_count": 79,
     "metadata": {},
     "output_type": "execute_result"
    }
   ],
   "source": [
    "linear_reg.score(X_test, Y_test)"
   ]
  },
  {
   "cell_type": "markdown",
   "metadata": {},
   "source": [
    "# Decision Tree classification and regression"
   ]
  },
  {
   "cell_type": "code",
   "execution_count": 80,
   "metadata": {},
   "outputs": [],
   "source": [
    "df_cat = df1[[\"txn_description\", \"gender\", \"age\", \"merchant_state\", \"movement\"]]"
   ]
  },
  {
   "cell_type": "code",
   "execution_count": 82,
   "metadata": {},
   "outputs": [
    {
     "data": {
      "text/html": [
       "<div>\n",
       "<style scoped>\n",
       "    .dataframe tbody tr th:only-of-type {\n",
       "        vertical-align: middle;\n",
       "    }\n",
       "\n",
       "    .dataframe tbody tr th {\n",
       "        vertical-align: top;\n",
       "    }\n",
       "\n",
       "    .dataframe thead th {\n",
       "        text-align: right;\n",
       "    }\n",
       "</style>\n",
       "<table border=\"1\" class=\"dataframe\">\n",
       "  <thead>\n",
       "    <tr style=\"text-align: right;\">\n",
       "      <th></th>\n",
       "      <th>txn_description</th>\n",
       "      <th>gender</th>\n",
       "      <th>age</th>\n",
       "      <th>merchant_state</th>\n",
       "      <th>movement</th>\n",
       "    </tr>\n",
       "  </thead>\n",
       "  <tbody>\n",
       "    <tr>\n",
       "      <th>0</th>\n",
       "      <td>POS</td>\n",
       "      <td>F</td>\n",
       "      <td>26</td>\n",
       "      <td>QLD</td>\n",
       "      <td>debit</td>\n",
       "    </tr>\n",
       "    <tr>\n",
       "      <th>1</th>\n",
       "      <td>SALES-POS</td>\n",
       "      <td>F</td>\n",
       "      <td>26</td>\n",
       "      <td>NSW</td>\n",
       "      <td>debit</td>\n",
       "    </tr>\n",
       "    <tr>\n",
       "      <th>2</th>\n",
       "      <td>POS</td>\n",
       "      <td>M</td>\n",
       "      <td>38</td>\n",
       "      <td>NSW</td>\n",
       "      <td>debit</td>\n",
       "    </tr>\n",
       "    <tr>\n",
       "      <th>3</th>\n",
       "      <td>SALES-POS</td>\n",
       "      <td>F</td>\n",
       "      <td>40</td>\n",
       "      <td>QLD</td>\n",
       "      <td>debit</td>\n",
       "    </tr>\n",
       "    <tr>\n",
       "      <th>4</th>\n",
       "      <td>SALES-POS</td>\n",
       "      <td>F</td>\n",
       "      <td>26</td>\n",
       "      <td>QLD</td>\n",
       "      <td>debit</td>\n",
       "    </tr>\n",
       "  </tbody>\n",
       "</table>\n",
       "</div>"
      ],
      "text/plain": [
       "  txn_description gender  age merchant_state movement\n",
       "0             POS      F   26            QLD    debit\n",
       "1       SALES-POS      F   26            NSW    debit\n",
       "2             POS      M   38            NSW    debit\n",
       "3       SALES-POS      F   40            QLD    debit\n",
       "4       SALES-POS      F   26            QLD    debit"
      ]
     },
     "execution_count": 82,
     "metadata": {},
     "output_type": "execute_result"
    }
   ],
   "source": [
    "df_cat.head()"
   ]
  },
  {
   "cell_type": "code",
   "execution_count": 83,
   "metadata": {},
   "outputs": [
    {
     "data": {
      "text/html": [
       "<div>\n",
       "<style scoped>\n",
       "    .dataframe tbody tr th:only-of-type {\n",
       "        vertical-align: middle;\n",
       "    }\n",
       "\n",
       "    .dataframe tbody tr th {\n",
       "        vertical-align: top;\n",
       "    }\n",
       "\n",
       "    .dataframe thead th {\n",
       "        text-align: right;\n",
       "    }\n",
       "</style>\n",
       "<table border=\"1\" class=\"dataframe\">\n",
       "  <thead>\n",
       "    <tr style=\"text-align: right;\">\n",
       "      <th></th>\n",
       "      <th>age</th>\n",
       "      <th>txn_description_INTER BANK</th>\n",
       "      <th>txn_description_PAY/SALARY</th>\n",
       "      <th>txn_description_PAYMENT</th>\n",
       "      <th>txn_description_PHONE BANK</th>\n",
       "      <th>txn_description_POS</th>\n",
       "      <th>txn_description_SALES-POS</th>\n",
       "      <th>gender_F</th>\n",
       "      <th>gender_M</th>\n",
       "      <th>merchant_state_ACT</th>\n",
       "      <th>merchant_state_NSW</th>\n",
       "      <th>merchant_state_NT</th>\n",
       "      <th>merchant_state_QLD</th>\n",
       "      <th>merchant_state_SA</th>\n",
       "      <th>merchant_state_TAS</th>\n",
       "      <th>merchant_state_VIC</th>\n",
       "      <th>merchant_state_WA</th>\n",
       "      <th>movement_credit</th>\n",
       "      <th>movement_debit</th>\n",
       "    </tr>\n",
       "  </thead>\n",
       "  <tbody>\n",
       "    <tr>\n",
       "      <th>0</th>\n",
       "      <td>26</td>\n",
       "      <td>0</td>\n",
       "      <td>0</td>\n",
       "      <td>0</td>\n",
       "      <td>0</td>\n",
       "      <td>1</td>\n",
       "      <td>0</td>\n",
       "      <td>1</td>\n",
       "      <td>0</td>\n",
       "      <td>0</td>\n",
       "      <td>0</td>\n",
       "      <td>0</td>\n",
       "      <td>1</td>\n",
       "      <td>0</td>\n",
       "      <td>0</td>\n",
       "      <td>0</td>\n",
       "      <td>0</td>\n",
       "      <td>0</td>\n",
       "      <td>1</td>\n",
       "    </tr>\n",
       "    <tr>\n",
       "      <th>1</th>\n",
       "      <td>26</td>\n",
       "      <td>0</td>\n",
       "      <td>0</td>\n",
       "      <td>0</td>\n",
       "      <td>0</td>\n",
       "      <td>0</td>\n",
       "      <td>1</td>\n",
       "      <td>1</td>\n",
       "      <td>0</td>\n",
       "      <td>0</td>\n",
       "      <td>1</td>\n",
       "      <td>0</td>\n",
       "      <td>0</td>\n",
       "      <td>0</td>\n",
       "      <td>0</td>\n",
       "      <td>0</td>\n",
       "      <td>0</td>\n",
       "      <td>0</td>\n",
       "      <td>1</td>\n",
       "    </tr>\n",
       "    <tr>\n",
       "      <th>2</th>\n",
       "      <td>38</td>\n",
       "      <td>0</td>\n",
       "      <td>0</td>\n",
       "      <td>0</td>\n",
       "      <td>0</td>\n",
       "      <td>1</td>\n",
       "      <td>0</td>\n",
       "      <td>0</td>\n",
       "      <td>1</td>\n",
       "      <td>0</td>\n",
       "      <td>1</td>\n",
       "      <td>0</td>\n",
       "      <td>0</td>\n",
       "      <td>0</td>\n",
       "      <td>0</td>\n",
       "      <td>0</td>\n",
       "      <td>0</td>\n",
       "      <td>0</td>\n",
       "      <td>1</td>\n",
       "    </tr>\n",
       "    <tr>\n",
       "      <th>3</th>\n",
       "      <td>40</td>\n",
       "      <td>0</td>\n",
       "      <td>0</td>\n",
       "      <td>0</td>\n",
       "      <td>0</td>\n",
       "      <td>0</td>\n",
       "      <td>1</td>\n",
       "      <td>1</td>\n",
       "      <td>0</td>\n",
       "      <td>0</td>\n",
       "      <td>0</td>\n",
       "      <td>0</td>\n",
       "      <td>1</td>\n",
       "      <td>0</td>\n",
       "      <td>0</td>\n",
       "      <td>0</td>\n",
       "      <td>0</td>\n",
       "      <td>0</td>\n",
       "      <td>1</td>\n",
       "    </tr>\n",
       "    <tr>\n",
       "      <th>4</th>\n",
       "      <td>26</td>\n",
       "      <td>0</td>\n",
       "      <td>0</td>\n",
       "      <td>0</td>\n",
       "      <td>0</td>\n",
       "      <td>0</td>\n",
       "      <td>1</td>\n",
       "      <td>1</td>\n",
       "      <td>0</td>\n",
       "      <td>0</td>\n",
       "      <td>0</td>\n",
       "      <td>0</td>\n",
       "      <td>1</td>\n",
       "      <td>0</td>\n",
       "      <td>0</td>\n",
       "      <td>0</td>\n",
       "      <td>0</td>\n",
       "      <td>0</td>\n",
       "      <td>1</td>\n",
       "    </tr>\n",
       "  </tbody>\n",
       "</table>\n",
       "</div>"
      ],
      "text/plain": [
       "   age  txn_description_INTER BANK  txn_description_PAY/SALARY  \\\n",
       "0   26                           0                           0   \n",
       "1   26                           0                           0   \n",
       "2   38                           0                           0   \n",
       "3   40                           0                           0   \n",
       "4   26                           0                           0   \n",
       "\n",
       "   txn_description_PAYMENT  txn_description_PHONE BANK  txn_description_POS  \\\n",
       "0                        0                           0                    1   \n",
       "1                        0                           0                    0   \n",
       "2                        0                           0                    1   \n",
       "3                        0                           0                    0   \n",
       "4                        0                           0                    0   \n",
       "\n",
       "   txn_description_SALES-POS  gender_F  gender_M  merchant_state_ACT  \\\n",
       "0                          0         1         0                   0   \n",
       "1                          1         1         0                   0   \n",
       "2                          0         0         1                   0   \n",
       "3                          1         1         0                   0   \n",
       "4                          1         1         0                   0   \n",
       "\n",
       "   merchant_state_NSW  merchant_state_NT  merchant_state_QLD  \\\n",
       "0                   0                  0                   1   \n",
       "1                   1                  0                   0   \n",
       "2                   1                  0                   0   \n",
       "3                   0                  0                   1   \n",
       "4                   0                  0                   1   \n",
       "\n",
       "   merchant_state_SA  merchant_state_TAS  merchant_state_VIC  \\\n",
       "0                  0                   0                   0   \n",
       "1                  0                   0                   0   \n",
       "2                  0                   0                   0   \n",
       "3                  0                   0                   0   \n",
       "4                  0                   0                   0   \n",
       "\n",
       "   merchant_state_WA  movement_credit  movement_debit  \n",
       "0                  0                0               1  \n",
       "1                  0                0               1  \n",
       "2                  0                0               1  \n",
       "3                  0                0               1  \n",
       "4                  0                0               1  "
      ]
     },
     "execution_count": 83,
     "metadata": {},
     "output_type": "execute_result"
    }
   ],
   "source": [
    "pd.get_dummies(df_cat).head()"
   ]
  },
  {
   "cell_type": "code",
   "execution_count": 84,
   "metadata": {},
   "outputs": [],
   "source": [
    "N_train = int(len(df)*0.8)\n",
    "X_train = pd.get_dummies(df_cat).iloc[:N_train]\n",
    "Y_train = df[\"annual_salary\"].iloc[:N_train]\n",
    "X_test = pd.get_dummies(df_cat).iloc[N_train:]\n",
    "Y_test = df[\"annual_salary\"].iloc[N_train:]"
   ]
  },
  {
   "cell_type": "markdown",
   "metadata": {},
   "source": [
    "# Classification"
   ]
  },
  {
   "cell_type": "code",
   "execution_count": 85,
   "metadata": {},
   "outputs": [],
   "source": [
    "decision_tree_class = DecisionTreeClassifier()"
   ]
  },
  {
   "cell_type": "code",
   "execution_count": 86,
   "metadata": {},
   "outputs": [
    {
     "data": {
      "text/plain": [
       "0.7882499481004774"
      ]
     },
     "execution_count": 86,
     "metadata": {},
     "output_type": "execute_result"
    }
   ],
   "source": [
    "decision_tree_class.fit(X_train, Y_train)\n",
    "decision_tree_class.score(X_train, Y_train)"
   ]
  },
  {
   "cell_type": "code",
   "execution_count": 87,
   "metadata": {},
   "outputs": [
    {
     "data": {
      "text/plain": [
       "array([1013, 1043, 4132, ..., 4054, 1043,  996], dtype=int64)"
      ]
     },
     "execution_count": 87,
     "metadata": {},
     "output_type": "execute_result"
    }
   ],
   "source": [
    "decision_tree_class.predict(X_test)"
   ]
  },
  {
   "cell_type": "code",
   "execution_count": 88,
   "metadata": {},
   "outputs": [
    {
     "data": {
      "text/plain": [
       "0.755085097550851"
      ]
     },
     "execution_count": 88,
     "metadata": {},
     "output_type": "execute_result"
    }
   ],
   "source": [
    "decision_tree_class.score(X_test, Y_test)"
   ]
  },
  {
   "cell_type": "markdown",
   "metadata": {},
   "source": [
    "# Regression"
   ]
  },
  {
   "cell_type": "code",
   "execution_count": 89,
   "metadata": {},
   "outputs": [],
   "source": [
    "decision_tree_reg = DecisionTreeRegressor()"
   ]
  },
  {
   "cell_type": "code",
   "execution_count": 90,
   "metadata": {},
   "outputs": [
    {
     "data": {
      "text/plain": [
       "0.7468978726536879"
      ]
     },
     "execution_count": 90,
     "metadata": {},
     "output_type": "execute_result"
    }
   ],
   "source": [
    "decision_tree_reg.fit(X_train, Y_train)\n",
    "decision_tree_reg.score(X_train, Y_train)"
   ]
  },
  {
   "cell_type": "code",
   "execution_count": 91,
   "metadata": {},
   "outputs": [
    {
     "data": {
      "text/plain": [
       "array([1226.42857143, 1043.        , 4132.        , ..., 3345.04761905,\n",
       "       1043.        , 1626.        ])"
      ]
     },
     "execution_count": 91,
     "metadata": {},
     "output_type": "execute_result"
    }
   ],
   "source": [
    "decision_tree_reg.predict(X_test)"
   ]
  },
  {
   "cell_type": "code",
   "execution_count": 92,
   "metadata": {},
   "outputs": [
    {
     "data": {
      "text/plain": [
       "0.6808515818359324"
      ]
     },
     "execution_count": 92,
     "metadata": {},
     "output_type": "execute_result"
    }
   ],
   "source": [
    "decision_tree_reg.score(X_test, Y_test)\n"
   ]
  },
  {
   "cell_type": "code",
   "execution_count": null,
   "metadata": {},
   "outputs": [],
   "source": []
  }
 ],
 "metadata": {
  "kernelspec": {
   "display_name": "Python 3",
   "language": "python",
   "name": "python3"
  },
  "language_info": {
   "codemirror_mode": {
    "name": "ipython",
    "version": 3
   },
   "file_extension": ".py",
   "mimetype": "text/x-python",
   "name": "python",
   "nbconvert_exporter": "python",
   "pygments_lexer": "ipython3",
   "version": "3.7.1"
  }
 },
 "nbformat": 4,
 "nbformat_minor": 2
}
